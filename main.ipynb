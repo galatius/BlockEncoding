{
 "cells": [
  {
   "cell_type": "code",
   "execution_count": 137,
   "metadata": {},
   "outputs": [],
   "source": [
    "import numpy as np\n",
    "import qiskit\n",
    "from qiskit.quantum_info.operators import Operator\n",
    "from tools import *"
   ]
  },
  {
   "cell_type": "markdown",
   "source": [
    "Performing block encoding of $2\\times2$ matrix on the form:\n",
    "\\begin{equation}\n",
    "A=\\frac{1}{2}(\\alpha_1I+\\alpha_2\\sigma_x)=\\frac{1}{2}\\begin{pmatrix} \\alpha_1 \\alpha_2 \\\\ \\alpha_2 \\alpha_1\n",
    "\\end{pmatrix}\n",
    "\\end{equation}"
   ],
   "metadata": {
    "collapsed": false
   }
  },
  {
   "cell_type": "code",
   "execution_count": 138,
   "outputs": [
    {
     "name": "stdout",
     "output_type": "stream",
     "text": [
      "[[1.5 2. ]\n",
      " [2.  1.5]]\n"
     ]
    }
   ],
   "source": [
    "# Defining arbitrary symmetric A\n",
    "alpha_1, alpha_2 = 3, 4\n",
    "A = 1/2 * np.array([[alpha_1, alpha_2],[alpha_2, alpha_1]])\n",
    "print(A)"
   ],
   "metadata": {
    "collapsed": false
   }
  },
  {
   "cell_type": "code",
   "execution_count": 139,
   "outputs": [
    {
     "name": "stdout",
     "output_type": "stream",
     "text": [
      "[[0.2236068 0.2981424]\n",
      " [0.2981424 0.2236068]]\n"
     ]
    }
   ],
   "source": [
    "# Normalizing w. respect to spectral norm\n",
    "spectral_norm = np.sqrt(np.max(np.linalg.eigvals(A.T@A-np.eye(2))))\n",
    "A = 1/2*A/spectral_norm\n",
    "print(A)"
   ],
   "metadata": {
    "collapsed": false
   }
  },
  {
   "cell_type": "code",
   "execution_count": 140,
   "outputs": [
    {
     "name": "stdout",
     "output_type": "stream",
     "text": [
      "0.4472135954999579 0.5962847939999439\n"
     ]
    }
   ],
   "source": [
    "# Updating alpha_1, alpha_2 definition\n",
    "alpha_1, alpha_2 = 2*A[0,0], 2*A[0,1]\n",
    "print(alpha_1,alpha_2)"
   ],
   "metadata": {
    "collapsed": false
   }
  },
  {
   "cell_type": "code",
   "execution_count": 141,
   "outputs": [
    {
     "name": "stdout",
     "output_type": "stream",
     "text": [
      "That\n",
      "0.22360679774997896 0.29814239699997197\n"
     ]
    }
   ],
   "source": [
    "print(\"That\")\n",
    "print(alpha_1/2, alpha_2/2)"
   ],
   "metadata": {
    "collapsed": false
   }
  },
  {
   "cell_type": "code",
   "execution_count": 142,
   "outputs": [
    {
     "name": "stdout",
     "output_type": "stream",
     "text": [
      "1.1071487177940904 -0.17521753523460504\n"
     ]
    }
   ],
   "source": [
    "# Defining rotation angles\n",
    "theta_1 = np.arccos(alpha_1)\n",
    "theta_2 = np.arccos(alpha_2) - theta_1\n",
    "print(theta_1, theta_2)"
   ],
   "metadata": {
    "collapsed": false
   }
  },
  {
   "cell_type": "markdown",
   "source": [
    "### Performing exact simulation"
   ],
   "metadata": {
    "collapsed": false
   }
  },
  {
   "cell_type": "code",
   "execution_count": 143,
   "metadata": {},
   "outputs": [
    {
     "name": "stdout",
     "output_type": "stream",
     "text": [
      "Initializing q_2 = |0>\n"
     ]
    },
    {
     "data": {
      "text/plain": "<Figure size 538.33x284.278 with 1 Axes>",
      "image/png": "[encoded data removed]"
     },
     "execution_count": 143,
     "metadata": {},
     "output_type": "execute_result"
    }
   ],
   "source": [
    "# Creating Quantum Circuit (Qubits initialized to |0> by default)\n",
    "print(\"Initializing q_2 = |0>\")\n",
    "circ = QuantumCircuit(3)\n",
    "circ.h(qubit=1)\n",
    "circ.cx(control_qubit=1,\n",
    "        target_qubit=2)\n",
    "circ.cu(theta=2*theta_2,phi=0.0,gamma=0.0,lam=0.0,control_qubit=1,target_qubit=0) # N.B. Remember to rotate by the double amount\n",
    "circ.u(theta=2*theta_1, phi=0.0,lam=0.0,qubit=0) # N.B. Remember to rotate by the double amount\n",
    "circ.h(qubit=1)\n",
    "circ.draw('mpl')"
   ]
  },
  {
   "cell_type": "code",
   "execution_count": 144,
   "outputs": [
    {
     "data": {
      "text/plain": "qiskit.circuit.quantumcircuit.QuantumCircuit"
     },
     "execution_count": 144,
     "metadata": {},
     "output_type": "execute_result"
    }
   ],
   "source": [
    "type(circ)"
   ],
   "metadata": {
    "collapsed": false
   }
  },
  {
   "cell_type": "code",
   "execution_count": 145,
   "metadata": {},
   "outputs": [
    {
     "name": "stdout",
     "output_type": "stream",
     "text": [
      "[ 0.2236068   0.4472136   0.2236068   0.4472136   0.2981424   0.40138649\n",
      " -0.2981424  -0.40138649]\n"
     ]
    }
   ],
   "source": [
    "# Run the quantum circuit on a statevector simulator backend\n",
    "backend = Aer.get_backend('statevector_simulator')\n",
    "job = backend.run(circ)\n",
    "result = job.result()\n",
    "statevector_result = np.real_if_close(np.array(result.data()['statevector']))\n",
    "print(statevector_result)"
   ]
  },
  {
   "cell_type": "code",
   "execution_count": 146,
   "outputs": [
    {
     "name": "stdout",
     "output_type": "stream",
     "text": [
      "Initializing q_2 = |1>\n"
     ]
    },
    {
     "data": {
      "text/plain": "<Figure size 538.33x284.278 with 1 Axes>",
      "image/png": "[encoded data removed]"
     },
     "execution_count": 146,
     "metadata": {},
     "output_type": "execute_result"
    }
   ],
   "source": [
    "# Creating Quantum Circuit (Qubits initialized to |0> by default)\n",
    "print(\"Initializing q_2 = |1>\")\n",
    "circ = QuantumCircuit(3)\n",
    "circ.x(qubit=2)\n",
    "circ.h(qubit=1)\n",
    "circ.cx(control_qubit=1,\n",
    "        target_qubit=2)\n",
    "circ.cu(theta=2*theta_2,phi=0.0,gamma=0.0,lam=0.0,control_qubit=1,target_qubit=0) # N.B. Remember to rotate by the double amount\n",
    "circ.u(theta=2*theta_1, phi=0.0,lam=0.0,qubit=0) # N.B. Remember to rotate by the double amount\n",
    "circ.h(qubit=1)\n",
    "circ.draw('mpl')"
   ],
   "metadata": {
    "collapsed": false
   }
  },
  {
   "cell_type": "code",
   "execution_count": 147,
   "outputs": [
    {
     "name": "stdout",
     "output_type": "stream",
     "text": [
      "[ 0.2981424   0.40138649 -0.2981424  -0.40138649  0.2236068   0.4472136\n",
      "  0.2236068   0.4472136 ]\n"
     ]
    }
   ],
   "source": [
    "# Run the quantum circuit on a statevector simulator backend\n",
    "backend = Aer.get_backend('statevector_simulator')\n",
    "job = backend.run(circ)\n",
    "result = job.result()\n",
    "statevector_result = np.real_if_close(np.array(result.data()['statevector']))\n",
    "print(statevector_result)"
   ],
   "metadata": {
    "collapsed": false
   }
  },
  {
   "cell_type": "markdown",
   "source": [
    "### Simulating quantum device"
   ],
   "metadata": {
    "collapsed": false
   }
  },
  {
   "cell_type": "code",
   "execution_count": 148,
   "outputs": [
    {
     "data": {
      "text/plain": "<Figure size 914.831x367.889 with 1 Axes>",
      "image/png": "[encoded data removed]"
     },
     "execution_count": 148,
     "metadata": {},
     "output_type": "execute_result"
    }
   ],
   "source": [
    "# Creating Quantum Circuit (Qubits initialized to |0> by default)\n",
    "circ = QuantumCircuit(3)\n",
    "#circ.x(qubit=2)\n",
    "circ.h(qubit=1)\n",
    "circ.cx(control_qubit=1,\n",
    "        target_qubit=2)\n",
    "circ.cu(theta=2*theta_2,phi=0.0,gamma=0.0,lam=0.0,control_qubit=1,target_qubit=0) # N.B. Remember to rotate by the double amount\n",
    "circ.u(theta=2*theta_1, phi=0.0,lam=0.0,qubit=0) # N.B. Remember to rotate by the double amount\n",
    "circ.h(qubit=1)\n",
    "circ.measure_all()\n",
    "circ.draw('mpl')"
   ],
   "metadata": {
    "collapsed": false
   }
  },
  {
   "cell_type": "code",
   "execution_count": 149,
   "outputs": [
    {
     "name": "stdout",
     "output_type": "stream",
     "text": [
      "[0.21875    0.4330127  0.22534695 0.46140072 0.31560953 0.40262809\n",
      " 0.29481191 0.39031237]\n"
     ]
    },
    {
     "data": {
      "text/plain": "<Figure size 1000x400 with 1 Axes>",
      "image/png": "[encoded data removed]"
     },
     "metadata": {},
     "output_type": "display_data"
    }
   ],
   "source": [
    "backend = Aer.get_backend('qasm_simulator')\n",
    "backend.shots = 10000\n",
    "result = execute(circ, backend).result()\n",
    "counts = result.get_counts()\n",
    "print(get_state_vector(counts=counts))\n",
    "plot_count_histogram(counts=counts)"
   ],
   "metadata": {
    "collapsed": false
   }
  },
  {
   "cell_type": "markdown",
   "source": [
    "### Encoding normalized real vector"
   ],
   "metadata": {
    "collapsed": false
   }
  },
  {
   "cell_type": "code",
   "execution_count": 150,
   "outputs": [
    {
     "name": "stdout",
     "output_type": "stream",
     "text": [
      "[0.4472136  0.89442719]\n"
     ]
    }
   ],
   "source": [
    "b_1, b_2 = 1,2\n",
    "b = np.array([b_1, b_2])/np.sqrt(b_1**2+b_2**2)\n",
    "print(b)"
   ],
   "metadata": {
    "collapsed": false
   }
  },
  {
   "cell_type": "code",
   "execution_count": 151,
   "outputs": [
    {
     "data": {
      "text/plain": "(2.214297435588181, 0)"
     },
     "execution_count": 151,
     "metadata": {},
     "output_type": "execute_result"
    }
   ],
   "source": [
    "theta = 2*np.arccos(b[0])\n",
    "phi = 0 # Choose phi depending on sign of second entry in b vector.\n",
    "lmbda = 0\n",
    "theta, phi"
   ],
   "metadata": {
    "collapsed": false
   }
  },
  {
   "cell_type": "code",
   "execution_count": 152,
   "outputs": [
    {
     "data": {
      "text/plain": "<Figure size 185.453x117.056 with 1 Axes>",
      "image/png": "[encoded data removed]"
     },
     "execution_count": 152,
     "metadata": {},
     "output_type": "execute_result"
    }
   ],
   "source": [
    "# Creating Quantum Circuit (Qubits initialized to |0> by default)\n",
    "circ = QuantumCircuit(1)\n",
    "circ.u(theta=theta, phi=phi,lam=lmbda,qubit=0)\n",
    "circ.draw('mpl')"
   ],
   "metadata": {
    "collapsed": false
   }
  },
  {
   "cell_type": "code",
   "execution_count": 153,
   "outputs": [
    {
     "name": "stdout",
     "output_type": "stream",
     "text": [
      "[0.4472136  0.89442719]\n"
     ]
    }
   ],
   "source": [
    "# Run the quantum circuit on a statevector simulator backend\n",
    "backend = Aer.get_backend('statevector_simulator')\n",
    "job = backend.run(circ)\n",
    "result = job.result()\n",
    "statevector_result = np.real_if_close(np.array(result.data()['statevector']))\n",
    "print(statevector_result)"
   ],
   "metadata": {
    "collapsed": false
   }
  },
  {
   "cell_type": "code",
   "execution_count": 154,
   "outputs": [
    {
     "data": {
      "text/plain": "Operator([[ 0.4472136 +0.j, -0.89442719+0.j],\n          [ 0.89442719+0.j,  0.4472136 +0.j]],\n         input_dims=(2,), output_dims=(2,))"
     },
     "execution_count": 154,
     "metadata": {},
     "output_type": "execute_result"
    }
   ],
   "source": [
    "# Run the quantum circuit on a statevector simulator backend\n",
    "backend = Aer.get_backend('unitary_simulator')\n",
    "job = backend.run(circ)\n",
    "result = job.result()\n",
    "result.get_unitary()"
   ],
   "metadata": {
    "collapsed": false
   }
  },
  {
   "cell_type": "markdown",
   "source": [
    "# REMEMBER THAT QISKIT IS BACKWARDS!"
   ],
   "metadata": {
    "collapsed": false
   }
  },
  {
   "cell_type": "code",
   "execution_count": 155,
   "outputs": [
    {
     "data": {
      "text/plain": "<Figure size 203.885x284.278 with 1 Axes>",
      "image/png": "[encoded data removed]"
     },
     "execution_count": 155,
     "metadata": {},
     "output_type": "execute_result"
    }
   ],
   "source": [
    "# Creating Quantum Circuit (Qubits initialized to |0> by default)\n",
    "circ = QuantumCircuit(3)\n",
    "circ.x(qubit=2)\n",
    "circ.draw('mpl')"
   ],
   "metadata": {
    "collapsed": false
   }
  },
  {
   "cell_type": "code",
   "execution_count": 156,
   "outputs": [
    {
     "name": "stdout",
     "output_type": "stream",
     "text": [
      "[0 0 0 0 1 0 0 0]\n"
     ]
    }
   ],
   "source": [
    "# Run the quantum circuit on a statevector simulator backend\n",
    "backend = Aer.get_backend('statevector_simulator')\n",
    "job = backend.run(circ)\n",
    "result = job.result()\n",
    "statevector_result = np.real_if_close(np.array(result.data()['statevector']))\n",
    "print(statevector_result.astype(int))"
   ],
   "metadata": {
    "collapsed": false
   }
  },
  {
   "cell_type": "code",
   "execution_count": 157,
   "outputs": [
    {
     "name": "stdout",
     "output_type": "stream",
     "text": [
      "this is the 'normal' way: \n",
      "\n",
      "[1 0 0 0 0 0 0 0]\n",
      "[0 0 0 0 1 0 0 0]\n"
     ]
    }
   ],
   "source": [
    "print(\"this is the 'normal' way: \\n\")\n",
    "print(qubit_vector('000').flatten())\n",
    "print(qubit_vector('100').flatten())"
   ],
   "metadata": {
    "collapsed": false
   }
  },
  {
   "cell_type": "markdown",
   "source": [
    "# Trying to encode Fig. 9 of Berry article\n",
    "(the qubit 'a' on the figure represents a register of possibly multiple qubits - here it is 2: q_1, q_2)"
   ],
   "metadata": {
    "collapsed": false
   }
  },
  {
   "cell_type": "code",
   "execution_count": 158,
   "outputs": [],
   "source": [
    "# See: https://qiskit.org/documentation/tutorials/circuits_advanced/02_operators_overview.html for instructions on user-defined operators\n",
    "\n",
    "def get_Ua(A: np.ndarray, q_2: int = 0) -> qiskit.quantum_info.operators.operator.Operator:\n",
    "    \"\"\"\n",
    "    Constructs the unitary operator Ua that encodes a symmetric real 2x2 matrix 'A' as a quantum gate.\n",
    "\n",
    "    Parameters\n",
    "    ----------\n",
    "    A : np.ndarray\n",
    "        The symmetric real 2x2 matrix to be encoded as a quantum gate.\n",
    "    q_2 : int, optional\n",
    "        The value of qubit 2, which should be either 0 or 1. Defaults to 0.\n",
    "\n",
    "    Returns\n",
    "    -------\n",
    "    qiskit.quantum_info.operators.operator.Operator\n",
    "        The operator Ua as a `qiskit.quantum_info.Operator` object.\n",
    "\n",
    "    Raises\n",
    "    ------\n",
    "    ValueError\n",
    "        If `q_2` is not equal to 0 or 1.\n",
    "        If `A` is not a 2x2 symmetric real matrix.\n",
    "    \"\"\"\n",
    "\n",
    "\n",
    "    if q_2 != 0 and q_2 != 1:\n",
    "        raise ValueError(\"q_2 should have the value of either '0' or '1'. \")\n",
    "    if A.shape[0] != A.shape[1] or A.shape[0] != 2:\n",
    "        raise ValueError(\"The given matrix 'A' should be 2x2.\")\n",
    "    if not check_symmetric(a=A):\n",
    "        raise ValueError(\"The given matrix 'A' should be symmetric.\")\n",
    "    if not np.isreal(A):\n",
    "        raise ValueError(\"The given matrix 'A' should only contain real numbers.\")\n",
    "\n",
    "    # Normalizing w. respect to spectral norm\n",
    "    _spectral_norm = np.sqrt(np.max(np.linalg.eigvals(A.T@A-np.eye(2))))\n",
    "    _A = 1/2*A/spectral_norm\n",
    "    # Updating alpha_1, alpha_2 definition\n",
    "    _alpha_1, _alpha_2 = 2*A[0,0], 2*A[0,1]\n",
    "    # Defining rotation angles\n",
    "    _theta_1 = np.arccos(_alpha_1)\n",
    "    _theta_2 = np.arccos(_alpha_2) - _theta_1\n",
    "\n",
    "    _NR_QUBITS = 3\n",
    "    _circ = QuantumCircuit(_NR_QUBITS)\n",
    "    if q_2 == 0:\n",
    "        _circ.x(qubit=2)\n",
    "    _circ.h(qubit=1)\n",
    "    _circ.cx(control_qubit=1,target_qubit=2)\n",
    "    _circ.cu(theta=2*_theta_2,phi=0.0,gamma=0.0,lam=0.0,control_qubit=1,target_qubit=0) # N.B. Remember to rotate by the double amount\n",
    "    _circ.u(theta=2*_theta_1, phi=0.0,lam=0.0,qubit=0) # N.B. Remember to rotate by the double amount\n",
    "    _circ.h(qubit=1)\n",
    "    return Operator(_circ)\n",
    "\n",
    "def get_Ub(b: np.ndarray) -> qiskit.quantum_info.operators.operator.Operator:\n",
    "    \"\"\"\n",
    "    Constructs the unitary operator Ub that encodes the 'b' vector as a quantum gate.\n",
    "\n",
    "    Parameters\n",
    "    ----------\n",
    "    b : numpy.ndarray\n",
    "        A numpy array containing the 2 entries of the 'b' vector.\n",
    "\n",
    "    Returns\n",
    "    -------\n",
    "    qiskit.quantum_info.operators.operator.Operator\n",
    "        The operator Ub as a `qiskit.quantum_info.Operator` object.\n",
    "\n",
    "    Raises\n",
    "    ------\n",
    "    ValueError\n",
    "        If the length of the input vector 'b' is not 2.\n",
    "        If the input vector 'b' does not contain only real values.\n",
    "\n",
    "    \"\"\"\n",
    "    if len(b) != 2:\n",
    "        raise ValueError(\"The vector 'b' should only contain 2 entries.\")\n",
    "    if not np.isreal(b):\n",
    "        raise ValueError(\"The vector 'b' should only contain real values.\")\n",
    "    # Normalizing 'b' vector\n",
    "    b *= 1.0/np.sqrt(b[0]**2+b[1]**2)\n",
    "    # Calculating rotation-angles\n",
    "    _theta = 2*np.arccos(b[0])\n",
    "    _phi = 0 # TODO: Choose phi depending on sign of second entry in b vector.\n",
    "    _lmbda = 0\n",
    "    # Creating circuit and transforming to operator\n",
    "    _circ = QuantumCircuit(1)\n",
    "    _circ.u(theta=_theta, phi=_phi,lam=_lmbda,qubit=0)\n",
    "    return Operator(_circ)\n",
    "\n",
    "\n",
    "def dagger(operator: qiskit.quantum_info.operators.operator.Operator) -> qiskit.quantum_info.operators.operator.Operator:\n",
    "    \"\"\"\n",
    "    Constructs the Hermitian conjugate of a given operator, i.e., its transpose and complex conjugate.\n",
    "\n",
    "    Parameters\n",
    "    ----------\n",
    "    operator : qiskit.quantum_info.operators.operator.Operator\n",
    "        The operator to compute the Hermitian conjugate of.\n",
    "\n",
    "    Returns\n",
    "    -------\n",
    "    qiskit.quantum_info.operators.operator.Operator\n",
    "        The Hermitian conjugate of the input operator as a `qiskit.quantum_info.Operator` object.\n",
    "    \"\"\"\n",
    "    return Operator(operator.data.conjugate().T)\n",
    "\n"
   ],
   "metadata": {
    "collapsed": false
   }
  },
  {
   "cell_type": "code",
   "execution_count": 158,
   "outputs": [],
   "source": [],
   "metadata": {
    "collapsed": false
   }
  }
 ],
 "metadata": {
  "kernelspec": {
   "display_name": "Python 3 (ipykernel)",
   "language": "python",
   "name": "python3"
  },
  "language_info": {
   "codemirror_mode": {
    "name": "ipython",
    "version": 3
   },
   "file_extension": ".py",
   "mimetype": "text/x-python",
   "name": "python",
   "nbconvert_exporter": "python",
   "pygments_lexer": "ipython3",
   "version": "3.10.6"
  }
 },
 "nbformat": 4,
 "nbformat_minor": 1
}
