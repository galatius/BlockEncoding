{
 "cells": [
  {
   "cell_type": "code",
   "execution_count": 28,
   "metadata": {
    "pycharm": {
     "name": "#%%\n"
    }
   },
   "outputs": [],
   "source": [
    "import numpy as np\n",
    "from qiskit import *"
   ]
  },
  {
   "cell_type": "markdown",
   "source": [
    "Performing block encoding of $2\\times2$ matrix on the form:\n",
    "\\begin{equation}\n",
    "A=\\frac{1}{2}(\\alpha_1I+\\alpha_2\\sigma_x)=\\frac{1}{2}\\begin{pmatrix} \\alpha_1 \\alpha_2 \\\\ \\alpha_2 \\alpha_1\n",
    "\\end{pmatrix}\n",
    "\\end{equation}"
   ],
   "metadata": {
    "collapsed": false,
    "pycharm": {
     "name": "#%% md\n"
    }
   }
  },
  {
   "cell_type": "code",
   "execution_count": 29,
   "outputs": [
    {
     "name": "stdout",
     "output_type": "stream",
     "text": [
      "[[1.5 2. ]\n",
      " [2.  1.5]]\n"
     ]
    }
   ],
   "source": [
    "alpha_1, alpha_2 = 3, 4\n",
    "A = 1/2 * np.array([[alpha_1, alpha_2],[alpha_2, alpha_1]])\n",
    "print(A)"
   ],
   "metadata": {
    "collapsed": false,
    "pycharm": {
     "name": "#%%\n"
    }
   }
  },
  {
   "cell_type": "code",
   "execution_count": 30,
   "outputs": [
    {
     "name": "stdout",
     "output_type": "stream",
     "text": [
      "[[0.2236068 0.2981424]\n",
      " [0.2981424 0.2236068]]\n"
     ]
    }
   ],
   "source": [
    "spectral_norm = np.sqrt(np.max(np.linalg.eigvals(A.T@A-np.eye(2))))\n",
    "A = 1/2*A/spectral_norm\n",
    "print(A)"
   ],
   "metadata": {
    "collapsed": false,
    "pycharm": {
     "name": "#%%\n"
    }
   }
  },
  {
   "cell_type": "code",
   "execution_count": 31,
   "outputs": [
    {
     "name": "stdout",
     "output_type": "stream",
     "text": [
      "0.4472135954999579 0.5962847939999439\n"
     ]
    }
   ],
   "source": [
    "alpha_1, alpha_2 = 2*A[0,0], 2*A[0,1]\n",
    "print(alpha_1,alpha_2)"
   ],
   "metadata": {
    "collapsed": false,
    "pycharm": {
     "name": "#%%\n"
    }
   }
  },
  {
   "cell_type": "code",
   "execution_count": 32,
   "outputs": [
    {
     "name": "stdout",
     "output_type": "stream",
     "text": [
      "1.1071487177940904 -0.17521753523460504\n"
     ]
    }
   ],
   "source": [
    "theta_1 = np.arccos(alpha_1)\n",
    "theta_2 = np.arccos(alpha_2) - theta_1\n",
    "print(theta_1, theta_2)"
   ],
   "metadata": {
    "collapsed": false,
    "pycharm": {
     "name": "#%%\n"
    }
   }
  },
  {
   "cell_type": "code",
   "execution_count": 33,
   "metadata": {
    "pycharm": {
     "name": "#%%\n"
    }
   },
   "outputs": [
    {
     "data": {
      "text/plain": "<Figure size 538.33x284.278 with 1 Axes>",
      "image/png": "[encoded data removed]"
     },
     "execution_count": 33,
     "metadata": {},
     "output_type": "execute_result"
    }
   ],
   "source": [
    "# Create a Quantum Circuit acting on a quantum register of three qubits\n",
    "circ = QuantumCircuit(3)\n",
    "circ.x(qubit=2)\n",
    "circ.h(qubit=1)\n",
    "circ.cx(control_qubit=1,\n",
    "        target_qubit=2)\n",
    "circ.cu(theta=2*theta_2,phi=0.0,gamma=0.0,lam=0.0,control_qubit=1,target_qubit=0) # N.B. Remember to rotate by the double amount\n",
    "circ.u(theta=2*theta_1, phi=0.0,lam=0.0,qubit=0) # N.B. Remember to rotate by the double amount\n",
    "circ.h(qubit=1)\n",
    "circ.draw('mpl')"
   ]
  },
  {
   "cell_type": "code",
   "execution_count": 34,
   "metadata": {
    "pycharm": {
     "name": "#%%\n"
    }
   },
   "outputs": [],
   "source": [
    "# Import Aer\n",
    "from qiskit import Aer\n",
    "\n",
    "# Run the quantum circuit on a statevector simulator backend\n",
    "backend = Aer.get_backend('statevector_simulator')"
   ]
  },
  {
   "cell_type": "code",
   "execution_count": 35,
   "outputs": [],
   "source": [
    "# Create a Quantum Program for execution\n",
    "job = backend.run(circ)"
   ],
   "metadata": {
    "collapsed": false,
    "pycharm": {
     "name": "#%%\n"
    }
   }
  },
  {
   "cell_type": "code",
   "execution_count": 36,
   "outputs": [
    {
     "name": "stdout",
     "output_type": "stream",
     "text": [
      "(0.29814239699997197-3.651191321761351e-17j)\n",
      "(0.4013864859597432-4.9155667525160346e-17j)\n",
      "(-0.298142396999972+3.6511913217613517e-17j)\n",
      "(-0.40138648595974324+4.915566752516036e-17j)\n",
      "(0.22360679774997907+0j)\n",
      "(0.447213595499958+0j)\n",
      "(0.22360679774997905+0j)\n",
      "(0.4472135954999579+0j)\n"
     ]
    }
   ],
   "source": [
    "result = job.result()\n",
    "statevector_result = np.array(result.data()['statevector'])\n",
    "for entry in statevector_result:\n",
    "        print(entry)"
   ],
   "metadata": {
    "collapsed": false,
    "pycharm": {
     "name": "#%%\n"
    }
   }
  },
  {
   "cell_type": "code",
   "execution_count": 37,
   "outputs": [
    {
     "data": {
      "text/plain": "0.4472135954999579"
     },
     "execution_count": 37,
     "metadata": {},
     "output_type": "execute_result"
    }
   ],
   "source": [
    "A[0][0]*2"
   ],
   "metadata": {
    "collapsed": false,
    "pycharm": {
     "name": "#%%\n"
    }
   }
  },
  {
   "cell_type": "code",
   "execution_count": 38,
   "outputs": [
    {
     "data": {
      "text/plain": "(1.0000000000000002-1.2246467991473535e-16j)"
     },
     "execution_count": 38,
     "metadata": {},
     "output_type": "execute_result"
    }
   ],
   "source": [
    "statevector_result.T@statevector_result"
   ],
   "metadata": {
    "collapsed": false,
    "pycharm": {
     "name": "#%%\n"
    }
   }
  },
  {
   "cell_type": "code",
   "execution_count": 39,
   "outputs": [
    {
     "data": {
      "text/plain": "(0.25-6.123233995736766e-17j)"
     },
     "execution_count": 39,
     "metadata": {},
     "output_type": "execute_result"
    }
   ],
   "source": [
    "# Probability |0>|0>|j>\n",
    "statevector_result[0]**2+statevector_result[1]**2"
   ],
   "metadata": {
    "collapsed": false,
    "pycharm": {
     "name": "#%%\n"
    }
   }
  },
  {
   "cell_type": "code",
   "execution_count": 40,
   "outputs": [
    {
     "name": "stdout",
     "output_type": "stream",
     "text": [
      "[[ 0.2981424 +0.j -0.40138649+0.j -0.2981424 +0.j  0.40138649+0.j\n",
      "   0.2236068 +0.j -0.4472136 +0.j  0.2236068 +0.j -0.4472136 +0.j]\n",
      " [ 0.40138649+0.j  0.2981424 +0.j -0.40138649+0.j -0.2981424 +0.j\n",
      "   0.4472136 +0.j  0.2236068 +0.j  0.4472136 +0.j  0.2236068 +0.j]\n",
      " [-0.2981424 +0.j  0.40138649+0.j  0.2981424 +0.j -0.40138649+0.j\n",
      "   0.2236068 +0.j -0.4472136 +0.j  0.2236068 +0.j -0.4472136 +0.j]\n",
      " [-0.40138649+0.j -0.2981424 +0.j  0.40138649+0.j  0.2981424 +0.j\n",
      "   0.4472136 +0.j  0.2236068 +0.j  0.4472136 +0.j  0.2236068 +0.j]\n",
      " [ 0.2236068 +0.j -0.4472136 +0.j  0.2236068 +0.j -0.4472136 +0.j\n",
      "   0.2981424 +0.j -0.40138649+0.j -0.2981424 +0.j  0.40138649+0.j]\n",
      " [ 0.4472136 +0.j  0.2236068 +0.j  0.4472136 +0.j  0.2236068 +0.j\n",
      "   0.40138649+0.j  0.2981424 +0.j -0.40138649+0.j -0.2981424 +0.j]\n",
      " [ 0.2236068 +0.j -0.4472136 +0.j  0.2236068 +0.j -0.4472136 +0.j\n",
      "  -0.2981424 +0.j  0.40138649+0.j  0.2981424 +0.j -0.40138649+0.j]\n",
      " [ 0.4472136 +0.j  0.2236068 +0.j  0.4472136 +0.j  0.2236068 +0.j\n",
      "  -0.40138649+0.j -0.2981424 +0.j  0.40138649+0.j  0.2981424 +0.j]]\n"
     ]
    }
   ],
   "source": [
    "# Matrix repr. of circuit\n",
    "import qiskit.quantum_info as qi\n",
    "op = qi.Operator(circ)\n",
    "print(op.data)"
   ],
   "metadata": {
    "collapsed": false,
    "pycharm": {
     "name": "#%%\n"
    }
   }
  },
  {
   "cell_type": "code",
   "execution_count": 41,
   "outputs": [
    {
     "data": {
      "text/plain": "array([[0],\n       [0],\n       [0],\n       [1]])"
     },
     "execution_count": 41,
     "metadata": {},
     "output_type": "execute_result"
    }
   ],
   "source": [
    "nul, et = np.array([[1],[0]]), np.array([[0],[1]])\n",
    "np.kron(et,et)"
   ],
   "metadata": {
    "collapsed": false,
    "pycharm": {
     "name": "#%%\n"
    }
   }
  },
  {
   "cell_type": "code",
   "execution_count": 41,
   "outputs": [],
   "source": [],
   "metadata": {
    "collapsed": false,
    "pycharm": {
     "name": "#%%\n"
    }
   }
  },
  {
   "cell_type": "code",
   "execution_count": 41,
   "outputs": [],
   "source": [],
   "metadata": {
    "collapsed": false,
    "pycharm": {
     "name": "#%%\n"
    }
   }
  }
 ],
 "metadata": {
  "kernelspec": {
   "display_name": "Python 3 (ipykernel)",
   "language": "python",
   "name": "python3"
  },
  "language_info": {
   "codemirror_mode": {
    "name": "ipython",
    "version": 3
   },
   "file_extension": ".py",
   "mimetype": "text/x-python",
   "name": "python",
   "nbconvert_exporter": "python",
   "pygments_lexer": "ipython3",
   "version": "3.10.6"
  }
 },
 "nbformat": 4,
 "nbformat_minor": 1
}