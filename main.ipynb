{
 "cells": [
  {
   "cell_type": "code",
   "execution_count": 1,
   "metadata": {
    "pycharm": {
     "name": "#%%\n"
    }
   },
   "outputs": [],
   "source": [
    "import numpy as np\n",
    "from qiskit import *"
   ]
  },
  {
   "cell_type": "markdown",
   "source": [
    "Performing block encoding of $2\\times2$ matrix on the form:\n",
    "\\begin{equation}\n",
    "A=\\frac{1}{2}(\\alpha_1I+\\alpha_2\\sigma_x)=\\frac{1}{2}\\begin{pmatrix} \\alpha_1 \\alpha_2 \\\\ \\alpha_2 \\alpha_1\n",
    "\\end{pmatrix}\n",
    "\\end{equation}"
   ],
   "metadata": {
    "collapsed": false,
    "pycharm": {
     "name": "#%% md\n"
    }
   }
  },
  {
   "cell_type": "code",
   "execution_count": 2,
   "outputs": [
    {
     "name": "stdout",
     "output_type": "stream",
     "text": [
      "[[1.5 2. ]\n",
      " [2.  1.5]]\n"
     ]
    }
   ],
   "source": [
    "alpha_1, alpha_2 = 3, 4\n",
    "A = 1/2 * np.array([[alpha_1, alpha_2],[alpha_2, alpha_1]])\n",
    "print(A)"
   ],
   "metadata": {
    "collapsed": false,
    "pycharm": {
     "name": "#%%\n"
    }
   }
  },
  {
   "cell_type": "code",
   "execution_count": 3,
   "outputs": [
    {
     "name": "stdout",
     "output_type": "stream",
     "text": [
      "[[0.2236068 0.2981424]\n",
      " [0.2981424 0.2236068]]\n"
     ]
    }
   ],
   "source": [
    "spectral_norm = np.sqrt(np.max(np.linalg.eigvals(A.T@A-np.eye(2))))\n",
    "A = 1/2*A/spectral_norm\n",
    "print(A)"
   ],
   "metadata": {
    "collapsed": false,
    "pycharm": {
     "name": "#%%\n"
    }
   }
  },
  {
   "cell_type": "code",
   "execution_count": 4,
   "outputs": [
    {
     "name": "stdout",
     "output_type": "stream",
     "text": [
      "0.4472135954999579 0.5962847939999439\n"
     ]
    }
   ],
   "source": [
    "alpha_1, alpha_2 = 2*A[0,0], 2*A[0,1]\n",
    "print(alpha_1,alpha_2)"
   ],
   "metadata": {
    "collapsed": false,
    "pycharm": {
     "name": "#%%\n"
    }
   }
  },
  {
   "cell_type": "code",
   "execution_count": 5,
   "outputs": [
    {
     "name": "stdout",
     "output_type": "stream",
     "text": [
      "1.1071487177940904 -0.17521753523460504\n"
     ]
    }
   ],
   "source": [
    "theta_1 = np.arccos(alpha_1)\n",
    "theta_2 = np.arccos(alpha_2) - theta_1\n",
    "print(theta_1, theta_2)"
   ],
   "metadata": {
    "collapsed": false,
    "pycharm": {
     "name": "#%%\n"
    }
   }
  },
  {
   "cell_type": "code",
   "execution_count": 17,
   "metadata": {
    "pycharm": {
     "name": "#%%\n"
    }
   },
   "outputs": [
    {
     "data": {
      "text/plain": "<Figure size 538.33x284.278 with 1 Axes>",
      "image/png": "[encoded data removed]"
     },
     "execution_count": 17,
     "metadata": {},
     "output_type": "execute_result"
    }
   ],
   "source": [
    "# Create a Quantum Circuit acting on a quantum register of three qubits\n",
    "circ = QuantumCircuit(3)\n",
    "circ.h(qubit=1)\n",
    "circ.cx(control_qubit=1,\n",
    "        target_qubit=2)\n",
    "circ.cu(theta=2*theta_2,phi=0.0,gamma=0.0,lam=0.0,control_qubit=1,target_qubit=0)\n",
    "circ.u(theta=2*theta_1, phi=0.0,lam=0.0,qubit=0)\n",
    "circ.h(qubit=1)\n",
    "circ.draw('mpl')"
   ]
  },
  {
   "cell_type": "code",
   "execution_count": 18,
   "metadata": {
    "pycharm": {
     "name": "#%%\n"
    }
   },
   "outputs": [],
   "source": [
    "# Import Aer\n",
    "from qiskit import Aer\n",
    "\n",
    "# Run the quantum circuit on a statevector simulator backend\n",
    "backend = Aer.get_backend('statevector_simulator')"
   ]
  },
  {
   "cell_type": "code",
   "execution_count": 19,
   "outputs": [],
   "source": [
    "# Create a Quantum Program for execution\n",
    "job = backend.run(circ)"
   ],
   "metadata": {
    "collapsed": false,
    "pycharm": {
     "name": "#%%\n"
    }
   }
  },
  {
   "cell_type": "code",
   "execution_count": 25,
   "outputs": [
    {
     "data": {
      "text/plain": "array([ 0.2236068 +0.00000000e+00j,  0.4472136 +0.00000000e+00j,\n        0.2236068 +0.00000000e+00j,  0.4472136 +0.00000000e+00j,\n        0.2981424 -3.65119132e-17j,  0.40138649-4.91556675e-17j,\n       -0.2981424 +3.65119132e-17j, -0.40138649+4.91556675e-17j])"
     },
     "execution_count": 25,
     "metadata": {},
     "output_type": "execute_result"
    }
   ],
   "source": [
    "result = job.result()\n",
    "statevector_result = np.array(result.data()['statevector'])\n",
    "statevector_result"
   ],
   "metadata": {
    "collapsed": false,
    "pycharm": {
     "name": "#%%\n"
    }
   }
  },
  {
   "cell_type": "code",
   "execution_count": 16,
   "outputs": [
    {
     "data": {
      "text/plain": "0.4472135954999579"
     },
     "execution_count": 16,
     "metadata": {},
     "output_type": "execute_result"
    }
   ],
   "source": [
    "A[0][0]*2"
   ],
   "metadata": {
    "collapsed": false,
    "pycharm": {
     "name": "#%%\n"
    }
   }
  },
  {
   "cell_type": "code",
   "execution_count": 12,
   "outputs": [
    {
     "data": {
      "text/plain": "(1-1.224646799147353e-16j)"
     },
     "execution_count": 12,
     "metadata": {},
     "output_type": "execute_result"
    }
   ],
   "source": [
    "statevector_result.T@statevector_result"
   ],
   "metadata": {
    "collapsed": false,
    "pycharm": {
     "name": "#%%\n"
    }
   }
  },
  {
   "cell_type": "code",
   "execution_count": 13,
   "outputs": [
    {
     "data": {
      "text/plain": "(0.2500000000000001+0j)"
     },
     "execution_count": 13,
     "metadata": {},
     "output_type": "execute_result"
    }
   ],
   "source": [
    "# Probability |0>|0>|j>\n",
    "statevector_result[0]**2+statevector_result[1]**2"
   ],
   "metadata": {
    "collapsed": false,
    "pycharm": {
     "name": "#%%\n"
    }
   }
  },
  {
   "cell_type": "code",
   "execution_count": 10,
   "outputs": [
    {
     "name": "stdout",
     "output_type": "stream",
     "text": [
      "[[ 0.4253254 +0.j -0.26286556+0.j  0.4253254 +0.j -0.26286556+0.j\n",
      "   0.44669408+0.j -0.22464283+0.j -0.44669408+0.j  0.22464283+0.j]\n",
      " [ 0.26286556+0.j  0.4253254 +0.j  0.26286556+0.j  0.4253254 +0.j\n",
      "   0.22464283+0.j  0.44669408+0.j -0.22464283+0.j -0.44669408+0.j]\n",
      " [ 0.4253254 +0.j -0.26286556+0.j  0.4253254 +0.j -0.26286556+0.j\n",
      "  -0.44669408+0.j  0.22464283+0.j  0.44669408+0.j -0.22464283+0.j]\n",
      " [ 0.26286556+0.j  0.4253254 +0.j  0.26286556+0.j  0.4253254 +0.j\n",
      "  -0.22464283+0.j -0.44669408+0.j  0.22464283+0.j  0.44669408+0.j]\n",
      " [ 0.44669408+0.j -0.22464283+0.j -0.44669408+0.j  0.22464283+0.j\n",
      "   0.4253254 +0.j -0.26286556+0.j  0.4253254 +0.j -0.26286556+0.j]\n",
      " [ 0.22464283+0.j  0.44669408+0.j -0.22464283+0.j -0.44669408+0.j\n",
      "   0.26286556+0.j  0.4253254 +0.j  0.26286556+0.j  0.4253254 +0.j]\n",
      " [-0.44669408+0.j  0.22464283+0.j  0.44669408+0.j -0.22464283+0.j\n",
      "   0.4253254 +0.j -0.26286556+0.j  0.4253254 +0.j -0.26286556+0.j]\n",
      " [-0.22464283+0.j -0.44669408+0.j  0.22464283+0.j  0.44669408+0.j\n",
      "   0.26286556+0.j  0.4253254 +0.j  0.26286556+0.j  0.4253254 +0.j]]\n"
     ]
    }
   ],
   "source": [
    "# Matrix repr. of circuit\n",
    "import qiskit.quantum_info as qi\n",
    "op = qi.Operator(circ)\n",
    "print(op.data)"
   ],
   "metadata": {
    "collapsed": false,
    "pycharm": {
     "name": "#%%\n"
    }
   }
  },
  {
   "cell_type": "code",
   "execution_count": 11,
   "outputs": [
    {
     "data": {
      "text/plain": "array([[0],\n       [0],\n       [0],\n       [1]])"
     },
     "execution_count": 11,
     "metadata": {},
     "output_type": "execute_result"
    }
   ],
   "source": [
    "nul, et = np.array([[1],[0]]), np.array([[0],[1]])\n",
    "np.kron(et,et)"
   ],
   "metadata": {
    "collapsed": false,
    "pycharm": {
     "name": "#%%\n"
    }
   }
  },
  {
   "cell_type": "code",
   "execution_count": 11,
   "outputs": [],
   "source": [],
   "metadata": {
    "collapsed": false,
    "pycharm": {
     "name": "#%%\n"
    }
   }
  },
  {
   "cell_type": "code",
   "execution_count": null,
   "outputs": [],
   "source": [],
   "metadata": {
    "collapsed": false,
    "pycharm": {
     "name": "#%%\n"
    }
   }
  }
 ],
 "metadata": {
  "kernelspec": {
   "display_name": "Python 3 (ipykernel)",
   "language": "python",
   "name": "python3"
  },
  "language_info": {
   "codemirror_mode": {
    "name": "ipython",
    "version": 3
   },
   "file_extension": ".py",
   "mimetype": "text/x-python",
   "name": "python",
   "nbconvert_exporter": "python",
   "pygments_lexer": "ipython3",
   "version": "3.10.6"
  }
 },
 "nbformat": 4,
 "nbformat_minor": 1
}