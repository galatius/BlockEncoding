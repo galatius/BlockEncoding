{
 "cells": [
  {
   "cell_type": "code",
   "execution_count": 1,
   "metadata": {},
   "outputs": [],
   "source": [
    "import numpy as np\n",
    "import qiskit\n",
    "from qiskit.quantum_info.operators import Operator\n",
    "from tools import *"
   ]
  },
  {
   "cell_type": "markdown",
   "source": [
    "Performing block encoding of $2\\times2$ matrix on the form:\n",
    "\\begin{equation}\n",
    "A=\\frac{1}{2}(\\alpha_1I+\\alpha_2\\sigma_x)=\\frac{1}{2}\\begin{pmatrix} \\alpha_1 \\alpha_2 \\\\ \\alpha_2 \\alpha_1\n",
    "\\end{pmatrix}\n",
    "\\end{equation}"
   ],
   "metadata": {
    "collapsed": false
   }
  },
  {
   "cell_type": "code",
   "execution_count": 2,
   "outputs": [
    {
     "name": "stdout",
     "output_type": "stream",
     "text": [
      "[[1.5 2. ]\n",
      " [2.  1.5]]\n"
     ]
    }
   ],
   "source": [
    "# Defining arbitrary symmetric A\n",
    "alpha_1, alpha_2 = 3, 4\n",
    "A = 1/2 * np.array([[alpha_1, alpha_2],[alpha_2, alpha_1]])\n",
    "print(A)"
   ],
   "metadata": {
    "collapsed": false
   }
  },
  {
   "cell_type": "code",
   "execution_count": 3,
   "outputs": [
    {
     "name": "stdout",
     "output_type": "stream",
     "text": [
      "[[0.2236068 0.2981424]\n",
      " [0.2981424 0.2236068]]\n"
     ]
    }
   ],
   "source": [
    "# Normalizing w. respect to spectral norm\n",
    "spectral_norm = np.sqrt(np.max(np.linalg.eigvals(A.T@A-np.eye(2))))\n",
    "A = 1/2*A/spectral_norm\n",
    "print(A)"
   ],
   "metadata": {
    "collapsed": false
   }
  },
  {
   "cell_type": "code",
   "execution_count": 4,
   "outputs": [
    {
     "name": "stdout",
     "output_type": "stream",
     "text": [
      "0.4472135954999579 0.5962847939999439\n"
     ]
    }
   ],
   "source": [
    "# Updating alpha_1, alpha_2 definition\n",
    "alpha_1, alpha_2 = 2*A[0,0], 2*A[0,1]\n",
    "print(alpha_1,alpha_2)"
   ],
   "metadata": {
    "collapsed": false
   }
  },
  {
   "cell_type": "code",
   "execution_count": 5,
   "outputs": [
    {
     "name": "stdout",
     "output_type": "stream",
     "text": [
      "That\n",
      "0.22360679774997896 0.29814239699997197\n"
     ]
    }
   ],
   "source": [
    "print(\"That\")\n",
    "print(alpha_1/2, alpha_2/2)"
   ],
   "metadata": {
    "collapsed": false
   }
  },
  {
   "cell_type": "code",
   "execution_count": 6,
   "outputs": [
    {
     "name": "stdout",
     "output_type": "stream",
     "text": [
      "1.1071487177940904 -0.17521753523460504\n"
     ]
    }
   ],
   "source": [
    "# Defining rotation angles\n",
    "theta_1 = np.arccos(alpha_1)\n",
    "theta_2 = np.arccos(alpha_2) - theta_1\n",
    "print(theta_1, theta_2)"
   ],
   "metadata": {
    "collapsed": false
   }
  },
  {
   "cell_type": "markdown",
   "source": [
    "### Performing exact simulation"
   ],
   "metadata": {
    "collapsed": false
   }
  },
  {
   "cell_type": "code",
   "execution_count": 7,
   "metadata": {},
   "outputs": [
    {
     "name": "stdout",
     "output_type": "stream",
     "text": [
      "Initializing q_2 = |0>\n"
     ]
    },
    {
     "data": {
      "text/plain": "<Figure size 538.33x284.278 with 1 Axes>",
      "image/png": "[encoded data removed]"
     },
     "execution_count": 7,
     "metadata": {},
     "output_type": "execute_result"
    }
   ],
   "source": [
    "# Creating Quantum Circuit (Qubits initialized to |0> by default)\n",
    "print(\"Initializing q_2 = |0>\")\n",
    "circ = QuantumCircuit(3)\n",
    "circ.h(qubit=1)\n",
    "circ.cx(control_qubit=1,\n",
    "        target_qubit=2)\n",
    "circ.cu(theta=2*theta_2,phi=0.0,gamma=0.0,lam=0.0,control_qubit=1,target_qubit=0) # N.B. Remember to rotate by the double amount\n",
    "circ.u(theta=2*theta_1, phi=0.0,lam=0.0,qubit=0) # N.B. Remember to rotate by the double amount\n",
    "circ.h(qubit=1)\n",
    "circ.draw('mpl')"
   ]
  },
  {
   "cell_type": "code",
   "execution_count": 8,
   "outputs": [
    {
     "data": {
      "text/plain": "qiskit.circuit.quantumcircuit.QuantumCircuit"
     },
     "execution_count": 8,
     "metadata": {},
     "output_type": "execute_result"
    }
   ],
   "source": [
    "type(circ)"
   ],
   "metadata": {
    "collapsed": false
   }
  },
  {
   "cell_type": "code",
   "execution_count": 9,
   "metadata": {},
   "outputs": [
    {
     "ename": "MissingOptionalLibraryError",
     "evalue": "\"The 'qiskit-aer' library is required to use 'Aer provider'. You can install it with 'pip install qiskit-aer'.\"",
     "output_type": "error",
     "traceback": [
      "\u001B[1;31m---------------------------------------------------------------------------\u001B[0m",
      "\u001B[1;31mImportError\u001B[0m                               Traceback (most recent call last)",
      "File \u001B[1;32m~\\AppData\\Roaming\\Python\\Python310\\site-packages\\qiskit\\__init__.py:132\u001B[0m, in \u001B[0;36mAerWrapper.__getattr__\u001B[1;34m(self, attr)\u001B[0m\n\u001B[0;32m    131\u001B[0m \u001B[38;5;28;01mtry\u001B[39;00m:\n\u001B[1;32m--> 132\u001B[0m     \u001B[38;5;28;01mfrom\u001B[39;00m \u001B[38;5;21;01mqiskit\u001B[39;00m\u001B[38;5;21;01m.\u001B[39;00m\u001B[38;5;21;01mproviders\u001B[39;00m \u001B[38;5;28;01mimport\u001B[39;00m aer\n\u001B[0;32m    134\u001B[0m     \u001B[38;5;28mself\u001B[39m\u001B[38;5;241m.\u001B[39maer \u001B[38;5;241m=\u001B[39m aer\u001B[38;5;241m.\u001B[39mAer\n",
      "File \u001B[1;32m~\\AppData\\Roaming\\Python\\Python310\\site-packages\\qiskit\\namespace.py:68\u001B[0m, in \u001B[0;36mQiskitElementImport.find_spec\u001B[1;34m(self, fullname, path, target)\u001B[0m\n\u001B[0;32m     67\u001B[0m \u001B[38;5;28;01mtry\u001B[39;00m:\n\u001B[1;32m---> 68\u001B[0m     \u001B[43mimportlib\u001B[49m\u001B[38;5;241;43m.\u001B[39;49m\u001B[43mimport_module\u001B[49m\u001B[43m(\u001B[49m\n\u001B[0;32m     69\u001B[0m \u001B[43m        \u001B[49m\u001B[43m_new_namespace\u001B[49m\u001B[43m(\u001B[49m\u001B[43mfullname\u001B[49m\u001B[43m,\u001B[49m\u001B[43m \u001B[49m\u001B[38;5;28;43mself\u001B[39;49m\u001B[38;5;241;43m.\u001B[39;49m\u001B[43mold_namespace\u001B[49m\u001B[43m,\u001B[49m\u001B[43m \u001B[49m\u001B[38;5;28;43mself\u001B[39;49m\u001B[38;5;241;43m.\u001B[39;49m\u001B[43mnew_package\u001B[49m\u001B[43m)\u001B[49m\n\u001B[0;32m     70\u001B[0m \u001B[43m    \u001B[49m\u001B[43m)\u001B[49m\n\u001B[0;32m     71\u001B[0m     \u001B[38;5;28;01mreturn\u001B[39;00m importlib\u001B[38;5;241m.\u001B[39mutil\u001B[38;5;241m.\u001B[39mspec_from_loader(\n\u001B[0;32m     72\u001B[0m         fullname, QiskitLoader(\u001B[38;5;28mself\u001B[39m\u001B[38;5;241m.\u001B[39mnew_package, \u001B[38;5;28mself\u001B[39m\u001B[38;5;241m.\u001B[39mold_namespace), origin\u001B[38;5;241m=\u001B[39m\u001B[38;5;124m\"\u001B[39m\u001B[38;5;124mqiskit\u001B[39m\u001B[38;5;124m\"\u001B[39m\n\u001B[0;32m     73\u001B[0m     )\n",
      "File \u001B[1;32mC:\\Program Files\\Python310\\lib\\importlib\\__init__.py:126\u001B[0m, in \u001B[0;36mimport_module\u001B[1;34m(name, package)\u001B[0m\n\u001B[0;32m    125\u001B[0m         level \u001B[38;5;241m+\u001B[39m\u001B[38;5;241m=\u001B[39m \u001B[38;5;241m1\u001B[39m\n\u001B[1;32m--> 126\u001B[0m \u001B[38;5;28;01mreturn\u001B[39;00m \u001B[43m_bootstrap\u001B[49m\u001B[38;5;241;43m.\u001B[39;49m\u001B[43m_gcd_import\u001B[49m\u001B[43m(\u001B[49m\u001B[43mname\u001B[49m\u001B[43m[\u001B[49m\u001B[43mlevel\u001B[49m\u001B[43m:\u001B[49m\u001B[43m]\u001B[49m\u001B[43m,\u001B[49m\u001B[43m \u001B[49m\u001B[43mpackage\u001B[49m\u001B[43m,\u001B[49m\u001B[43m \u001B[49m\u001B[43mlevel\u001B[49m\u001B[43m)\u001B[49m\n",
      "File \u001B[1;32m~\\AppData\\Roaming\\Python\\Python310\\site-packages\\qiskit_aer\\__init__.py:69\u001B[0m\n\u001B[0;32m     66\u001B[0m \u001B[38;5;66;03m# ... ¯\\_(ツ)_/¯\u001B[39;00m\n\u001B[0;32m     67\u001B[0m \n\u001B[0;32m     68\u001B[0m \u001B[38;5;66;03m# pylint: disable=wrong-import-position\u001B[39;00m\n\u001B[1;32m---> 69\u001B[0m \u001B[38;5;28;01mfrom\u001B[39;00m \u001B[38;5;21;01mqiskit_aer\u001B[39;00m\u001B[38;5;21;01m.\u001B[39;00m\u001B[38;5;21;01maerprovider\u001B[39;00m \u001B[38;5;28;01mimport\u001B[39;00m AerProvider\n\u001B[0;32m     70\u001B[0m \u001B[38;5;28;01mfrom\u001B[39;00m \u001B[38;5;21;01mqiskit_aer\u001B[39;00m\u001B[38;5;21;01m.\u001B[39;00m\u001B[38;5;21;01mjobs\u001B[39;00m \u001B[38;5;28;01mimport\u001B[39;00m AerJob, AerJobSet\n",
      "File \u001B[1;32m~\\AppData\\Roaming\\Python\\Python310\\site-packages\\qiskit_aer\\aerprovider.py:21\u001B[0m\n\u001B[0;32m     19\u001B[0m \u001B[38;5;28;01mfrom\u001B[39;00m \u001B[38;5;21;01mqiskit\u001B[39;00m\u001B[38;5;21;01m.\u001B[39;00m\u001B[38;5;21;01mproviders\u001B[39;00m\u001B[38;5;21;01m.\u001B[39;00m\u001B[38;5;21;01mproviderutils\u001B[39;00m \u001B[38;5;28;01mimport\u001B[39;00m filter_backends\n\u001B[1;32m---> 21\u001B[0m \u001B[38;5;28;01mfrom\u001B[39;00m \u001B[38;5;21;01m.\u001B[39;00m\u001B[38;5;21;01mbackends\u001B[39;00m\u001B[38;5;21;01m.\u001B[39;00m\u001B[38;5;21;01maer_simulator\u001B[39;00m \u001B[38;5;28;01mimport\u001B[39;00m AerSimulator\n\u001B[0;32m     22\u001B[0m \u001B[38;5;28;01mfrom\u001B[39;00m \u001B[38;5;21;01m.\u001B[39;00m\u001B[38;5;21;01mbackends\u001B[39;00m\u001B[38;5;21;01m.\u001B[39;00m\u001B[38;5;21;01mqasm_simulator\u001B[39;00m \u001B[38;5;28;01mimport\u001B[39;00m QasmSimulator\n",
      "File \u001B[1;32m~\\AppData\\Roaming\\Python\\Python310\\site-packages\\qiskit_aer\\backends\\__init__.py:17\u001B[0m\n\u001B[0;32m     13\u001B[0m \u001B[38;5;124;03m\"\"\"\u001B[39;00m\n\u001B[0;32m     14\u001B[0m \u001B[38;5;124;03mAer Provider Simulator Backends\u001B[39;00m\n\u001B[0;32m     15\u001B[0m \u001B[38;5;124;03m\"\"\"\u001B[39;00m\n\u001B[1;32m---> 17\u001B[0m \u001B[38;5;28;01mfrom\u001B[39;00m \u001B[38;5;21;01m.\u001B[39;00m\u001B[38;5;21;01maer_simulator\u001B[39;00m \u001B[38;5;28;01mimport\u001B[39;00m AerSimulator\n\u001B[0;32m     18\u001B[0m \u001B[38;5;28;01mfrom\u001B[39;00m \u001B[38;5;21;01m.\u001B[39;00m\u001B[38;5;21;01mqasm_simulator\u001B[39;00m \u001B[38;5;28;01mimport\u001B[39;00m QasmSimulator\n",
      "File \u001B[1;32m~\\AppData\\Roaming\\Python\\Python310\\site-packages\\qiskit_aer\\backends\\aer_simulator.py:24\u001B[0m\n\u001B[0;32m     23\u001B[0m \u001B[38;5;28;01mfrom\u001B[39;00m \u001B[38;5;21;01m.\u001B[39;00m\u001B[38;5;21;01m.\u001B[39;00m\u001B[38;5;21;01mversion\u001B[39;00m \u001B[38;5;28;01mimport\u001B[39;00m __version__\n\u001B[1;32m---> 24\u001B[0m \u001B[38;5;28;01mfrom\u001B[39;00m \u001B[38;5;21;01m.\u001B[39;00m\u001B[38;5;21;01maerbackend\u001B[39;00m \u001B[38;5;28;01mimport\u001B[39;00m AerBackend, AerError\n\u001B[0;32m     25\u001B[0m \u001B[38;5;28;01mfrom\u001B[39;00m \u001B[38;5;21;01m.\u001B[39;00m\u001B[38;5;21;01mbackend_utils\u001B[39;00m \u001B[38;5;28;01mimport\u001B[39;00m (cpp_execute_circuits, cpp_execute_qobj,\n\u001B[0;32m     26\u001B[0m                             available_methods, available_devices,\n\u001B[0;32m     27\u001B[0m                             MAX_QUBITS_STATEVECTOR,\n\u001B[0;32m     28\u001B[0m                             BASIS_GATES)\n",
      "File \u001B[1;32m~\\AppData\\Roaming\\Python\\Python310\\site-packages\\qiskit_aer\\backends\\aerbackend.py:35\u001B[0m\n\u001B[0;32m     34\u001B[0m \u001B[38;5;28;01mfrom\u001B[39;00m \u001B[38;5;21;01m.\u001B[39;00m\u001B[38;5;21;01m.\u001B[39;00m\u001B[38;5;21;01mnoise\u001B[39;00m\u001B[38;5;21;01m.\u001B[39;00m\u001B[38;5;21;01merrors\u001B[39;00m\u001B[38;5;21;01m.\u001B[39;00m\u001B[38;5;21;01mquantum_error\u001B[39;00m \u001B[38;5;28;01mimport\u001B[39;00m QuantumChannelInstruction\n\u001B[1;32m---> 35\u001B[0m \u001B[38;5;28;01mfrom\u001B[39;00m \u001B[38;5;21;01m.\u001B[39;00m\u001B[38;5;21;01maer_compiler\u001B[39;00m \u001B[38;5;28;01mimport\u001B[39;00m compile_circuit, assemble_circuits, generate_aer_config\n\u001B[0;32m     36\u001B[0m \u001B[38;5;28;01mfrom\u001B[39;00m \u001B[38;5;21;01m.\u001B[39;00m\u001B[38;5;21;01mbackend_utils\u001B[39;00m \u001B[38;5;28;01mimport\u001B[39;00m format_save_type, circuit_optypes\n",
      "File \u001B[1;32m~\\AppData\\Roaming\\Python\\Python310\\site-packages\\qiskit_aer\\backends\\aer_compiler.py:34\u001B[0m\n\u001B[0;32m     33\u001B[0m \u001B[38;5;66;03m# pylint: disable=import-error, no-name-in-module\u001B[39;00m\n\u001B[1;32m---> 34\u001B[0m \u001B[38;5;28;01mfrom\u001B[39;00m \u001B[38;5;21;01mqiskit_aer\u001B[39;00m\u001B[38;5;21;01m.\u001B[39;00m\u001B[38;5;21;01mbackends\u001B[39;00m\u001B[38;5;21;01m.\u001B[39;00m\u001B[38;5;21;01mcontroller_wrappers\u001B[39;00m \u001B[38;5;28;01mimport\u001B[39;00m AerCircuit, AerConfig\n\u001B[0;32m     35\u001B[0m \u001B[38;5;28;01mfrom\u001B[39;00m \u001B[38;5;21;01m.\u001B[39;00m\u001B[38;5;21;01mbackend_utils\u001B[39;00m \u001B[38;5;28;01mimport\u001B[39;00m circuit_optypes\n",
      "\u001B[1;31mImportError\u001B[0m: DLL load failed while importing controller_wrappers: The specified module could not be found.",
      "\nThe above exception was the direct cause of the following exception:\n",
      "\u001B[1;31mMissingOptionalLibraryError\u001B[0m               Traceback (most recent call last)",
      "Cell \u001B[1;32mIn[9], line 2\u001B[0m\n\u001B[0;32m      1\u001B[0m \u001B[38;5;66;03m# Run the quantum circuit on a statevector simulator backend\u001B[39;00m\n\u001B[1;32m----> 2\u001B[0m backend \u001B[38;5;241m=\u001B[39m \u001B[43mAer\u001B[49m\u001B[38;5;241;43m.\u001B[39;49m\u001B[43mget_backend\u001B[49m(\u001B[38;5;124m'\u001B[39m\u001B[38;5;124mstatevector_simulator\u001B[39m\u001B[38;5;124m'\u001B[39m)\n\u001B[0;32m      3\u001B[0m job \u001B[38;5;241m=\u001B[39m backend\u001B[38;5;241m.\u001B[39mrun(circ)\n\u001B[0;32m      4\u001B[0m result \u001B[38;5;241m=\u001B[39m job\u001B[38;5;241m.\u001B[39mresult()\n",
      "File \u001B[1;32m~\\AppData\\Roaming\\Python\\Python310\\site-packages\\qiskit\\__init__.py:143\u001B[0m, in \u001B[0;36mAerWrapper.__getattr__\u001B[1;34m(self, attr)\u001B[0m\n\u001B[0;32m    135\u001B[0m         warnings\u001B[38;5;241m.\u001B[39mwarn(\n\u001B[0;32m    136\u001B[0m             \u001B[38;5;124m\"\u001B[39m\u001B[38;5;124mThe qiskit.Aer entry point will be deprecated in a future release and \u001B[39m\u001B[38;5;124m\"\u001B[39m\n\u001B[0;32m    137\u001B[0m             \u001B[38;5;124m\"\u001B[39m\u001B[38;5;124msubsequently removed. Instead you should use this \u001B[39m\u001B[38;5;124m\"\u001B[39m\n\u001B[1;32m   (...)\u001B[0m\n\u001B[0;32m    140\u001B[0m             stacklevel\u001B[38;5;241m=\u001B[39m\u001B[38;5;241m2\u001B[39m,\n\u001B[0;32m    141\u001B[0m         )\n\u001B[0;32m    142\u001B[0m     \u001B[38;5;28;01mexcept\u001B[39;00m \u001B[38;5;167;01mImportError\u001B[39;00m \u001B[38;5;28;01mas\u001B[39;00m ex:\n\u001B[1;32m--> 143\u001B[0m         \u001B[38;5;28;01mraise\u001B[39;00m MissingOptionalLibraryError(\n\u001B[0;32m    144\u001B[0m             \u001B[38;5;124m\"\u001B[39m\u001B[38;5;124mqiskit-aer\u001B[39m\u001B[38;5;124m\"\u001B[39m, \u001B[38;5;124m\"\u001B[39m\u001B[38;5;124mAer provider\u001B[39m\u001B[38;5;124m\"\u001B[39m, \u001B[38;5;124m\"\u001B[39m\u001B[38;5;124mpip install qiskit-aer\u001B[39m\u001B[38;5;124m\"\u001B[39m\n\u001B[0;32m    145\u001B[0m         ) \u001B[38;5;28;01mfrom\u001B[39;00m \u001B[38;5;21;01mex\u001B[39;00m\n\u001B[0;32m    146\u001B[0m \u001B[38;5;28;01mreturn\u001B[39;00m \u001B[38;5;28mgetattr\u001B[39m(\u001B[38;5;28mself\u001B[39m\u001B[38;5;241m.\u001B[39maer, attr)\n",
      "\u001B[1;31mMissingOptionalLibraryError\u001B[0m: \"The 'qiskit-aer' library is required to use 'Aer provider'. You can install it with 'pip install qiskit-aer'.\""
     ]
    }
   ],
   "source": [
    "# Run the quantum circuit on a statevector simulator backend\n",
    "backend = Aer.get_backend('statevector_simulator')\n",
    "job = backend.run(circ)\n",
    "result = job.result()\n",
    "statevector_result = np.real_if_close(np.array(result.data()['statevector']))\n",
    "print(statevector_result)"
   ]
  },
  {
   "cell_type": "code",
   "execution_count": null,
   "outputs": [],
   "source": [
    "# Creating Quantum Circuit (Qubits initialized to |0> by default)\n",
    "print(\"Initializing q_2 = |1>\")\n",
    "circ = QuantumCircuit(3)\n",
    "circ.x(qubit=2)\n",
    "circ.h(qubit=1)\n",
    "circ.cx(control_qubit=1,\n",
    "        target_qubit=2)\n",
    "circ.cu(theta=2*theta_2,phi=0.0,gamma=0.0,lam=0.0,control_qubit=1,target_qubit=0) # N.B. Remember to rotate by the double amount\n",
    "circ.u(theta=2*theta_1, phi=0.0,lam=0.0,qubit=0) # N.B. Remember to rotate by the double amount\n",
    "circ.h(qubit=1)\n",
    "circ.draw('mpl')"
   ],
   "metadata": {
    "collapsed": false
   }
  },
  {
   "cell_type": "code",
   "execution_count": null,
   "outputs": [],
   "source": [
    "# Run the quantum circuit on a statevector simulator backend\n",
    "backend = Aer.get_backend('statevector_simulator')\n",
    "job = backend.run(circ)\n",
    "result = job.result()\n",
    "statevector_result = np.real_if_close(np.array(result.data()['statevector']))\n",
    "print(statevector_result)"
   ],
   "metadata": {
    "collapsed": false
   }
  },
  {
   "cell_type": "markdown",
   "source": [
    "### Simulating quantum device"
   ],
   "metadata": {
    "collapsed": false
   }
  },
  {
   "cell_type": "code",
   "execution_count": null,
   "outputs": [],
   "source": [
    "# Creating Quantum Circuit (Qubits initialized to |0> by default)\n",
    "circ = QuantumCircuit(3)\n",
    "#circ.x(qubit=2)\n",
    "circ.h(qubit=1)\n",
    "circ.cx(control_qubit=1,\n",
    "        target_qubit=2)\n",
    "circ.cu(theta=2*theta_2,phi=0.0,gamma=0.0,lam=0.0,control_qubit=1,target_qubit=0) # N.B. Remember to rotate by the double amount\n",
    "circ.u(theta=2*theta_1, phi=0.0,lam=0.0,qubit=0) # N.B. Remember to rotate by the double amount\n",
    "circ.h(qubit=1)\n",
    "circ.measure_all()\n",
    "circ.draw('mpl')"
   ],
   "metadata": {
    "collapsed": false
   }
  },
  {
   "cell_type": "code",
   "execution_count": null,
   "outputs": [],
   "source": [
    "backend = Aer.get_backend('qasm_simulator')\n",
    "backend.shots = 10000\n",
    "result = execute(circ, backend).result()\n",
    "counts = result.get_counts()\n",
    "print(get_state_vector(counts=counts))\n",
    "plot_count_histogram(counts=counts)"
   ],
   "metadata": {
    "collapsed": false
   }
  },
  {
   "cell_type": "markdown",
   "source": [
    "### Encoding normalized real vector"
   ],
   "metadata": {
    "collapsed": false
   }
  },
  {
   "cell_type": "code",
   "execution_count": null,
   "outputs": [],
   "source": [
    "b_1, b_2 = 1,2\n",
    "b = np.array([b_1, b_2])/np.sqrt(b_1**2+b_2**2)\n",
    "print(b)"
   ],
   "metadata": {
    "collapsed": false
   }
  },
  {
   "cell_type": "code",
   "execution_count": null,
   "outputs": [],
   "source": [
    "theta = 2*np.arccos(b[0])\n",
    "phi = 0 # Choose phi depending on sign of second entry in b vector.\n",
    "lmbda = 0\n",
    "theta, phi"
   ],
   "metadata": {
    "collapsed": false
   }
  },
  {
   "cell_type": "code",
   "execution_count": null,
   "outputs": [],
   "source": [
    "# Creating Quantum Circuit (Qubits initialized to |0> by default)\n",
    "circ = QuantumCircuit(1)\n",
    "circ.u(theta=theta, phi=phi,lam=lmbda,qubit=0)\n",
    "circ.draw('mpl')"
   ],
   "metadata": {
    "collapsed": false
   }
  },
  {
   "cell_type": "code",
   "execution_count": null,
   "outputs": [],
   "source": [
    "# Run the quantum circuit on a statevector simulator backend\n",
    "backend = Aer.get_backend('statevector_simulator')\n",
    "job = backend.run(circ)\n",
    "result = job.result()\n",
    "statevector_result = np.real_if_close(np.array(result.data()['statevector']))\n",
    "print(statevector_result)"
   ],
   "metadata": {
    "collapsed": false
   }
  },
  {
   "cell_type": "code",
   "execution_count": null,
   "outputs": [],
   "source": [
    "# Run the quantum circuit on a statevector simulator backend\n",
    "backend = Aer.get_backend('unitary_simulator')\n",
    "job = backend.run(circ)\n",
    "result = job.result()\n",
    "result.get_unitary()"
   ],
   "metadata": {
    "collapsed": false
   }
  },
  {
   "cell_type": "markdown",
   "source": [
    "# REMEMBER THAT QISKIT IS BACKWARDS!"
   ],
   "metadata": {
    "collapsed": false
   }
  },
  {
   "cell_type": "code",
   "execution_count": null,
   "outputs": [],
   "source": [
    "# Creating Quantum Circuit (Qubits initialized to |0> by default)\n",
    "circ = QuantumCircuit(3)\n",
    "circ.x(qubit=2)\n",
    "circ.draw('mpl')"
   ],
   "metadata": {
    "collapsed": false
   }
  },
  {
   "cell_type": "code",
   "execution_count": null,
   "outputs": [],
   "source": [
    "# Run the quantum circuit on a statevector simulator backend\n",
    "backend = Aer.get_backend('statevector_simulator')\n",
    "job = backend.run(circ)\n",
    "result = job.result()\n",
    "statevector_result = np.real_if_close(np.array(result.data()['statevector']))\n",
    "print(statevector_result.astype(int))"
   ],
   "metadata": {
    "collapsed": false
   }
  },
  {
   "cell_type": "code",
   "execution_count": null,
   "outputs": [],
   "source": [
    "print(\"this is the 'normal' way: \\n\")\n",
    "print(qubit_vector('000').flatten())\n",
    "print(qubit_vector('100').flatten())"
   ],
   "metadata": {
    "collapsed": false
   }
  },
  {
   "cell_type": "markdown",
   "source": [
    "# Trying to encode Fig. 9 of Berry article\n",
    "(the qubit 'a' on the figure represents a register of possibly multiple qubits - here it is 2: q_1, q_2)"
   ],
   "metadata": {
    "collapsed": false
   }
  },
  {
   "cell_type": "code",
   "execution_count": null,
   "outputs": [],
   "source": [
    "# See: https://qiskit.org/documentation/tutorials/circuits_advanced/02_operators_overview.html for instructions on user-defined operators\n",
    "\n",
    "def get_Ua(A: np.ndarray, q_2: int = 0) -> qiskit.quantum_info.operators.operator.Operator:\n",
    "    \"\"\"\n",
    "    Constructs the unitary operator Ua that encodes a symmetric real 2x2 matrix 'A' as a quantum gate.\n",
    "\n",
    "    Parameters\n",
    "    ----------\n",
    "    A : np.ndarray\n",
    "        The symmetric real 2x2 matrix to be encoded as a quantum gate.\n",
    "    q_2 : int, optional\n",
    "        The value of qubit 2, which should be either 0 or 1. Defaults to 0.\n",
    "\n",
    "    Returns\n",
    "    -------\n",
    "    qiskit.quantum_info.operators.operator.Operator\n",
    "        The operator Ua as a `qiskit.quantum_info.Operator` object.\n",
    "\n",
    "    Raises\n",
    "    ------\n",
    "    ValueError\n",
    "        If `q_2` is not equal to 0 or 1.\n",
    "        If `A` is not a 2x2 symmetric real matrix.\n",
    "    \"\"\"\n",
    "\n",
    "\n",
    "    if q_2 != 0 and q_2 != 1:\n",
    "        raise ValueError(\"q_2 should have the value of either '0' or '1'. \")\n",
    "    if A.shape[0] != A.shape[1] or A.shape[0] != 2:\n",
    "        raise ValueError(\"The given matrix 'A' should be 2x2.\")\n",
    "    if not check_symmetric(a=A):\n",
    "        raise ValueError(\"The given matrix 'A' should be symmetric.\")\n",
    "    if not np.isreal(A):\n",
    "        raise ValueError(\"The given matrix 'A' should only contain real numbers.\")\n",
    "\n",
    "    # Normalizing w. respect to spectral norm\n",
    "    _spectral_norm = np.sqrt(np.max(np.linalg.eigvals(A.T@A-np.eye(2))))\n",
    "    _A = 1/2*A/spectral_norm\n",
    "    # Updating alpha_1, alpha_2 definition\n",
    "    _alpha_1, _alpha_2 = 2*A[0,0], 2*A[0,1]\n",
    "    # Defining rotation angles\n",
    "    _theta_1 = np.arccos(_alpha_1)\n",
    "    _theta_2 = np.arccos(_alpha_2) - _theta_1\n",
    "\n",
    "    _NR_QUBITS = 3\n",
    "    _circ = QuantumCircuit(_NR_QUBITS)\n",
    "    if q_2 == 0:\n",
    "        _circ.x(qubit=2)\n",
    "    _circ.h(qubit=1)\n",
    "    _circ.cx(control_qubit=1,target_qubit=2)\n",
    "    _circ.cu(theta=2*_theta_2,phi=0.0,gamma=0.0,lam=0.0,control_qubit=1,target_qubit=0) # N.B. Remember to rotate by the double amount\n",
    "    _circ.u(theta=2*_theta_1, phi=0.0,lam=0.0,qubit=0) # N.B. Remember to rotate by the double amount\n",
    "    _circ.h(qubit=1)\n",
    "    return Operator(_circ)\n",
    "\n",
    "def get_Ub(b: np.ndarray) -> qiskit.quantum_info.operators.operator.Operator:\n",
    "    \"\"\"\n",
    "    Constructs the unitary operator Ub that encodes the 'b' vector as a quantum gate.\n",
    "\n",
    "    Parameters\n",
    "    ----------\n",
    "    b : numpy.ndarray\n",
    "        A numpy array containing the 2 entries of the 'b' vector.\n",
    "\n",
    "    Returns\n",
    "    -------\n",
    "    qiskit.quantum_info.operators.operator.Operator\n",
    "        The operator Ub as a `qiskit.quantum_info.Operator` object.\n",
    "\n",
    "    Raises\n",
    "    ------\n",
    "    ValueError\n",
    "        If the length of the input vector 'b' is not 2.\n",
    "        If the input vector 'b' does not contain only real values.\n",
    "\n",
    "    \"\"\"\n",
    "    if len(b) != 2:\n",
    "        raise ValueError(\"The vector 'b' should only contain 2 entries.\")\n",
    "    if not np.isreal(b):\n",
    "        raise ValueError(\"The vector 'b' should only contain real values.\")\n",
    "    # Normalizing 'b' vector\n",
    "    b *= 1.0/np.sqrt(b[0]**2+b[1]**2)\n",
    "    # Calculating rotation-angles\n",
    "    _theta = 2*np.arccos(b[0])\n",
    "    _phi = 0 # TODO: Choose phi depending on sign of second entry in b vector.\n",
    "    _lmbda = 0\n",
    "    # Creating circuit and transforming to operator\n",
    "    _circ = QuantumCircuit(1)\n",
    "    _circ.u(theta=_theta, phi=_phi,lam=_lmbda,qubit=0)\n",
    "    return Operator(_circ)\n",
    "\n",
    "\n",
    "def dagger(operator: qiskit.quantum_info.operators.operator.Operator) -> qiskit.quantum_info.operators.operator.Operator:\n",
    "    \"\"\"\n",
    "    Constructs the Hermitian conjugate of a given operator, i.e., its transpose and complex conjugate.\n",
    "\n",
    "    Parameters\n",
    "    ----------\n",
    "    operator : qiskit.quantum_info.operators.operator.Operator\n",
    "        The operator to compute the Hermitian conjugate of.\n",
    "\n",
    "    Returns\n",
    "    -------\n",
    "    qiskit.quantum_info.operators.operator.Operator\n",
    "        The Hermitian conjugate of the input operator as a `qiskit.quantum_info.Operator` object.\n",
    "    \"\"\"\n",
    "    return Operator(operator.data.conjugate().T)\n",
    "\n",
    "\n",
    "def schedule_function(s:float, kappa: float = 1.0, p: float = 3/2) -> float:\n",
    "    \"\"\"\n",
    "    Returns the value of the schedule function at a given point (kappa, p, s) as described\n",
    "    in the article 'Optimal Scaling Quantum Linear-Systems Solver via Discrete' Adiabatic Theorem.\n",
    "\n",
    "    Parameters\n",
    "    ----------\n",
    "    kappa : float\n",
    "        The condition number of the matrix.\n",
    "\n",
    "    p : float\n",
    "        A number between 1 and 2.\n",
    "\n",
    "    s : float\n",
    "        A number between 0 and 1 representing the current point in the annealing schedule.\n",
    "\n",
    "    Returns\n",
    "    -------\n",
    "    float\n",
    "        The value of the schedule function evaluated at the given (kappa, p, s).\n",
    "    \"\"\"\n",
    "    if kappa <= 0 or kappa > 1:\n",
    "        raise ValueError(\"kappa must be a number between 0 and 1.\")\n",
    "    if not (1 < p < 2):\n",
    "        raise ValueError(\"'p' must be a number between 1 and 2.\")\n",
    "    if not (0 <= s <= 1):\n",
    "        raise ValueError(\"'s' must be a number between 0 and 1.\")\n",
    "    return kappa / (kappa - 1.0) * (1.0 - (1.0 + s * (kappa ** (p - 1.0) - 1.0))) ** (1.0 / (1.0 - p))\n",
    "\n",
    "\n",
    "def get_Rs(s: float) -> qiskit.quantum_info.operators.operator.Operator:\n",
    "    \"\"\"\n",
    "    Constructs the reflection operator R(s).\n",
    "\n",
    "    Parameters\n",
    "    ----------\n",
    "    s : float\n",
    "        A number between 0 and 1 representing the current point in the annealing schedule.\n",
    "\n",
    "    Returns\n",
    "    -------\n",
    "    qiskit.quantum_info.operators.operator.Operator\n",
    "        The operator Rs as a `qiskit.quantum_info.Operator` object.\n",
    "\n",
    "    Raises\n",
    "    ------\n",
    "    ValueError\n",
    "        If 's' is not a number between 0 and 1.\n",
    "    \"\"\"\n",
    "    if not (0 <= s <= 1):\n",
    "        raise ValueError(\"'s' must be a number between 0 and 1.\")\n",
    "    _front_factor = 1.0 / np.sqrt((1.0 - schedule_function(s))**2 + schedule_function(s)**2)\n",
    "    _matrix = np.array([[1.0 - schedule_function(s) , schedule_function(s)          ],\n",
    "                        [schedule_function(s)       , -(1.0 - schedule_function(s)) ]])\n",
    "    _matrix *= _front_factor\n",
    "    return Operator(_matrix)\n"
   ],
   "metadata": {
    "collapsed": false
   }
  },
  {
   "cell_type": "code",
   "execution_count": null,
   "outputs": [],
   "source": [],
   "metadata": {
    "collapsed": false
   }
  }
 ],
 "metadata": {
  "kernelspec": {
   "display_name": "Python 3 (ipykernel)",
   "language": "python",
   "name": "python3"
  },
  "language_info": {
   "codemirror_mode": {
    "name": "ipython",
    "version": 3
   },
   "file_extension": ".py",
   "mimetype": "text/x-python",
   "name": "python",
   "nbconvert_exporter": "python",
   "pygments_lexer": "ipython3",
   "version": "3.10.6"
  }
 },
 "nbformat": 4,
 "nbformat_minor": 1
}
