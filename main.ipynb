{
 "cells": [
  {
   "cell_type": "code",
   "execution_count": 283,
   "outputs": [],
   "source": [
    "import numpy as np\n",
    "import qiskit\n",
    "from qiskit.quantum_info.operators import Operator\n",
    "from qiskit.extensions import UnitaryGate\n",
    "from tools import *"
   ],
   "metadata": {
    "collapsed": false,
    "ExecuteTime": {
     "start_time": "2023-04-01T23:04:50.558861Z",
     "end_time": "2023-04-01T23:04:50.579134Z"
    }
   }
  },
  {
   "cell_type": "markdown",
   "source": [
    "Performing block encoding of $2\\times2$ matrix on the form:\n",
    "\\begin{equation}\n",
    "A=\\frac{1}{2}(\\alpha_1I+\\alpha_2\\sigma_x)=\\frac{1}{2}\\begin{pmatrix} \\alpha_1 \\alpha_2 \\\\ \\alpha_2 \\alpha_1\n",
    "\\end{pmatrix}\n",
    "\\end{equation}"
   ],
   "metadata": {
    "collapsed": false
   }
  },
  {
   "cell_type": "code",
   "execution_count": 284,
   "outputs": [
    {
     "name": "stdout",
     "output_type": "stream",
     "text": [
      "[[1.5 2. ]\n",
      " [2.  1.5]]\n"
     ]
    }
   ],
   "source": [
    "# Defining arbitrary symmetric A\n",
    "alpha_1, alpha_2 = 3, 4\n",
    "A = 1/2 * np.array([[alpha_1, alpha_2],[alpha_2, alpha_1]])\n",
    "print(A)"
   ],
   "metadata": {
    "collapsed": false,
    "ExecuteTime": {
     "start_time": "2023-04-01T23:04:50.564369Z",
     "end_time": "2023-04-01T23:04:50.583272Z"
    }
   }
  },
  {
   "cell_type": "code",
   "execution_count": 285,
   "outputs": [
    {
     "name": "stdout",
     "output_type": "stream",
     "text": [
      "[[0.2236068 0.2981424]\n",
      " [0.2981424 0.2236068]]\n"
     ]
    }
   ],
   "source": [
    "# Normalizing w. respect to spectral norm\n",
    "spectral_norm = np.sqrt(np.max(np.linalg.eigvals(A.T@A-np.eye(2))))\n",
    "A = 1/2*A/spectral_norm\n",
    "print(A)"
   ],
   "metadata": {
    "collapsed": false,
    "ExecuteTime": {
     "start_time": "2023-04-01T23:04:50.568643Z",
     "end_time": "2023-04-01T23:04:50.589305Z"
    }
   }
  },
  {
   "cell_type": "code",
   "execution_count": 286,
   "outputs": [
    {
     "name": "stdout",
     "output_type": "stream",
     "text": [
      "0.4472135954999579 0.5962847939999439\n"
     ]
    }
   ],
   "source": [
    "# Updating alpha_1, alpha_2 definition\n",
    "alpha_1, alpha_2 = 2*A[0,0], 2*A[0,1]\n",
    "print(alpha_1,alpha_2)"
   ],
   "metadata": {
    "collapsed": false,
    "ExecuteTime": {
     "start_time": "2023-04-01T23:04:50.570610Z",
     "end_time": "2023-04-01T23:04:50.591220Z"
    }
   }
  },
  {
   "cell_type": "code",
   "execution_count": 287,
   "outputs": [
    {
     "name": "stdout",
     "output_type": "stream",
     "text": [
      "That\n",
      "0.22360679774997896 0.29814239699997197\n"
     ]
    }
   ],
   "source": [
    "print(\"That\")\n",
    "print(alpha_1/2, alpha_2/2)"
   ],
   "metadata": {
    "collapsed": false,
    "ExecuteTime": {
     "start_time": "2023-04-01T23:04:50.573620Z",
     "end_time": "2023-04-01T23:04:50.592284Z"
    }
   }
  },
  {
   "cell_type": "code",
   "execution_count": 288,
   "outputs": [
    {
     "name": "stdout",
     "output_type": "stream",
     "text": [
      "1.1071487177940904 -0.17521753523460504\n"
     ]
    }
   ],
   "source": [
    "# Defining rotation angles\n",
    "theta_1 = np.arccos(alpha_1)\n",
    "theta_2 = np.arccos(alpha_2) - theta_1\n",
    "print(theta_1, theta_2)"
   ],
   "metadata": {
    "collapsed": false,
    "ExecuteTime": {
     "start_time": "2023-04-01T23:04:50.576401Z",
     "end_time": "2023-04-01T23:04:50.621907Z"
    }
   }
  },
  {
   "cell_type": "markdown",
   "source": [
    "### Performing exact simulation"
   ],
   "metadata": {
    "collapsed": false
   }
  },
  {
   "cell_type": "code",
   "execution_count": 289,
   "outputs": [
    {
     "name": "stdout",
     "output_type": "stream",
     "text": [
      "Initializing q_2 = |0>\n"
     ]
    },
    {
     "data": {
      "text/plain": "<Figure size 538.33x284.278 with 1 Axes>",
      "image/png": "[encoded data removed]"
     },
     "execution_count": 289,
     "metadata": {},
     "output_type": "execute_result"
    }
   ],
   "source": [
    "# Creating Quantum Circuit (Qubits initialized to |0> by default)\n",
    "print(\"Initializing q_2 = |0>\")\n",
    "circ = QuantumCircuit(3)\n",
    "circ.h(qubit=1)\n",
    "circ.cx(control_qubit=1,\n",
    "        target_qubit=2)\n",
    "circ.cu(theta=2*theta_2,phi=0.0,gamma=0.0,lam=0.0,control_qubit=1,target_qubit=0) # N.B. Remember to rotate by the double amount\n",
    "circ.u(theta=2*theta_1, phi=0.0,lam=0.0,qubit=0) # N.B. Remember to rotate by the double amount\n",
    "circ.h(qubit=1)\n",
    "circ.draw('mpl')"
   ],
   "metadata": {
    "collapsed": false,
    "ExecuteTime": {
     "start_time": "2023-04-01T23:04:50.581134Z",
     "end_time": "2023-04-01T23:04:50.644139Z"
    }
   }
  },
  {
   "cell_type": "code",
   "execution_count": 290,
   "outputs": [
    {
     "data": {
      "text/plain": "qiskit.circuit.quantumcircuit.QuantumCircuit"
     },
     "execution_count": 290,
     "metadata": {},
     "output_type": "execute_result"
    }
   ],
   "source": [
    "type(circ)"
   ],
   "metadata": {
    "collapsed": false,
    "ExecuteTime": {
     "start_time": "2023-04-01T23:04:50.644511Z",
     "end_time": "2023-04-01T23:04:50.672901Z"
    }
   }
  },
  {
   "cell_type": "code",
   "execution_count": 291,
   "outputs": [
    {
     "name": "stdout",
     "output_type": "stream",
     "text": [
      "[ 0.2236068   0.4472136   0.2236068   0.4472136   0.2981424   0.40138649\n",
      " -0.2981424  -0.40138649]\n"
     ]
    }
   ],
   "source": [
    "# Run the quantum circuit on a statevector simulator backend\n",
    "backend = Aer.get_backend('statevector_simulator')\n",
    "job = backend.run(circ)\n",
    "result = job.result()\n",
    "statevector_result = np.real_if_close(np.array(result.data()['statevector']))\n",
    "print(statevector_result)"
   ],
   "metadata": {
    "collapsed": false,
    "ExecuteTime": {
     "start_time": "2023-04-01T23:04:50.648669Z",
     "end_time": "2023-04-01T23:04:50.678337Z"
    }
   }
  },
  {
   "cell_type": "code",
   "execution_count": 292,
   "outputs": [
    {
     "name": "stdout",
     "output_type": "stream",
     "text": [
      "Initializing q_2 = |1>\n"
     ]
    },
    {
     "data": {
      "text/plain": "<Figure size 538.33x284.278 with 1 Axes>",
      "image/png": "[encoded data removed]"
     },
     "execution_count": 292,
     "metadata": {},
     "output_type": "execute_result"
    }
   ],
   "source": [
    "# Creating Quantum Circuit (Qubits initialized to |0> by default)\n",
    "print(\"Initializing q_2 = |1>\")\n",
    "circ = QuantumCircuit(3)\n",
    "circ.x(qubit=2)\n",
    "circ.h(qubit=1)\n",
    "circ.cx(control_qubit=1,\n",
    "        target_qubit=2)\n",
    "circ.cu(theta=2*theta_2,phi=0.0,gamma=0.0,lam=0.0,control_qubit=1,target_qubit=0) # N.B. Remember to rotate by the double amount\n",
    "circ.u(theta=2*theta_1, phi=0.0,lam=0.0,qubit=0) # N.B. Remember to rotate by the double amount\n",
    "circ.h(qubit=1)\n",
    "circ.draw('mpl')"
   ],
   "metadata": {
    "collapsed": false,
    "ExecuteTime": {
     "start_time": "2023-04-01T23:04:50.654010Z",
     "end_time": "2023-04-01T23:04:50.730246Z"
    }
   }
  },
  {
   "cell_type": "code",
   "execution_count": 293,
   "outputs": [
    {
     "name": "stdout",
     "output_type": "stream",
     "text": [
      "[ 0.2981424   0.40138649 -0.2981424  -0.40138649  0.2236068   0.4472136\n",
      "  0.2236068   0.4472136 ]\n"
     ]
    }
   ],
   "source": [
    "# Run the quantum circuit on a statevector simulator backend\n",
    "backend = Aer.get_backend('statevector_simulator')\n",
    "job = backend.run(circ)\n",
    "result = job.result()\n",
    "statevector_result = np.real_if_close(np.array(result.data()['statevector']))\n",
    "print(statevector_result)"
   ],
   "metadata": {
    "collapsed": false,
    "ExecuteTime": {
     "start_time": "2023-04-01T23:04:50.715176Z",
     "end_time": "2023-04-01T23:04:50.730417Z"
    }
   }
  },
  {
   "cell_type": "markdown",
   "source": [
    "### Simulating quantum device"
   ],
   "metadata": {
    "collapsed": false
   }
  },
  {
   "cell_type": "code",
   "execution_count": 294,
   "outputs": [
    {
     "data": {
      "text/plain": "<Figure size 914.831x367.889 with 1 Axes>",
      "image/png": "[encoded data removed]"
     },
     "execution_count": 294,
     "metadata": {},
     "output_type": "execute_result"
    }
   ],
   "source": [
    "# Creating Quantum Circuit (Qubits initialized to |0> by default)\n",
    "circ = QuantumCircuit(3)\n",
    "#circ.x(qubit=2)\n",
    "circ.h(qubit=1)\n",
    "circ.cx(control_qubit=1,\n",
    "        target_qubit=2)\n",
    "circ.cu(theta=2*theta_2,phi=0.0,gamma=0.0,lam=0.0,control_qubit=1,target_qubit=0) # N.B. Remember to rotate by the double amount\n",
    "circ.u(theta=2*theta_1, phi=0.0,lam=0.0,qubit=0) # N.B. Remember to rotate by the double amount\n",
    "circ.h(qubit=1)\n",
    "circ.measure_all()\n",
    "circ.draw('mpl')"
   ],
   "metadata": {
    "collapsed": false,
    "ExecuteTime": {
     "start_time": "2023-04-01T23:04:50.722296Z",
     "end_time": "2023-04-01T23:04:50.801412Z"
    }
   }
  },
  {
   "cell_type": "code",
   "execution_count": 295,
   "outputs": [
    {
     "name": "stdout",
     "output_type": "stream",
     "text": [
      "[0.22097087 0.4363825  0.22316964 0.4408355  0.28811076 0.39528471\n",
      " 0.29973947 0.4330127 ]\n"
     ]
    },
    {
     "data": {
      "text/plain": "<Figure size 1000x400 with 1 Axes>",
      "image/png": "[encoded data removed]"
     },
     "metadata": {},
     "output_type": "display_data"
    }
   ],
   "source": [
    "backend = Aer.get_backend('qasm_simulator')\n",
    "backend.shots = 10000\n",
    "result = execute(circ, backend).result()\n",
    "counts = result.get_counts()\n",
    "print(get_state_vector(counts=counts))\n",
    "plot_count_histogram(counts=counts)"
   ],
   "metadata": {
    "collapsed": false,
    "ExecuteTime": {
     "start_time": "2023-04-01T23:04:50.807221Z",
     "end_time": "2023-04-01T23:04:50.903024Z"
    }
   }
  },
  {
   "cell_type": "markdown",
   "source": [
    "### Encoding normalized real vector"
   ],
   "metadata": {
    "collapsed": false
   }
  },
  {
   "cell_type": "code",
   "execution_count": 296,
   "outputs": [
    {
     "name": "stdout",
     "output_type": "stream",
     "text": [
      "[0.4472136  0.89442719]\n"
     ]
    }
   ],
   "source": [
    "b_1, b_2 = 1,2\n",
    "b = np.array([b_1, b_2])/np.sqrt(b_1**2+b_2**2)\n",
    "print(b)"
   ],
   "metadata": {
    "collapsed": false,
    "ExecuteTime": {
     "start_time": "2023-04-01T23:04:50.887895Z",
     "end_time": "2023-04-01T23:04:50.903187Z"
    }
   }
  },
  {
   "cell_type": "code",
   "execution_count": 297,
   "outputs": [
    {
     "data": {
      "text/plain": "(2.214297435588181, 0)"
     },
     "execution_count": 297,
     "metadata": {},
     "output_type": "execute_result"
    }
   ],
   "source": [
    "theta = 2*np.arccos(b[0])\n",
    "phi = 0 # Choose phi depending on sign of second entry in b vector.\n",
    "lmbda = 0\n",
    "theta, phi"
   ],
   "metadata": {
    "collapsed": false,
    "ExecuteTime": {
     "start_time": "2023-04-01T23:04:50.892928Z",
     "end_time": "2023-04-01T23:04:50.903259Z"
    }
   }
  },
  {
   "cell_type": "code",
   "execution_count": 298,
   "outputs": [
    {
     "data": {
      "text/plain": "<Figure size 185.453x117.056 with 1 Axes>",
      "image/png": "[encoded data removed]"
     },
     "execution_count": 298,
     "metadata": {},
     "output_type": "execute_result"
    }
   ],
   "source": [
    "# Creating Quantum Circuit (Qubits initialized to |0> by default)\n",
    "circ = QuantumCircuit(1)\n",
    "circ.u(theta=theta, phi=phi,lam=lmbda,qubit=0)\n",
    "circ.draw('mpl')"
   ],
   "metadata": {
    "collapsed": false,
    "ExecuteTime": {
     "start_time": "2023-04-01T23:04:50.894395Z",
     "end_time": "2023-04-01T23:04:50.966675Z"
    }
   }
  },
  {
   "cell_type": "code",
   "execution_count": 299,
   "outputs": [
    {
     "name": "stdout",
     "output_type": "stream",
     "text": [
      "[0.4472136  0.89442719]\n"
     ]
    }
   ],
   "source": [
    "# Run the quantum circuit on a statevector simulator backend\n",
    "backend = Aer.get_backend('statevector_simulator')\n",
    "job = backend.run(circ)\n",
    "result = job.result()\n",
    "statevector_result = np.real_if_close(np.array(result.data()['statevector']))\n",
    "print(statevector_result)"
   ],
   "metadata": {
    "collapsed": false,
    "ExecuteTime": {
     "start_time": "2023-04-01T23:04:50.925824Z",
     "end_time": "2023-04-01T23:04:50.966790Z"
    }
   }
  },
  {
   "cell_type": "code",
   "execution_count": 300,
   "outputs": [
    {
     "data": {
      "text/plain": "Operator([[ 0.4472136 +0.j, -0.89442719+0.j],\n          [ 0.89442719+0.j,  0.4472136 +0.j]],\n         input_dims=(2,), output_dims=(2,))"
     },
     "execution_count": 300,
     "metadata": {},
     "output_type": "execute_result"
    }
   ],
   "source": [
    "# Run the quantum circuit on a statevector simulator backend\n",
    "backend = Aer.get_backend('unitary_simulator')\n",
    "job = backend.run(circ)\n",
    "result = job.result()\n",
    "result.get_unitary()"
   ],
   "metadata": {
    "collapsed": false,
    "ExecuteTime": {
     "start_time": "2023-04-01T23:04:50.929656Z",
     "end_time": "2023-04-01T23:04:50.966882Z"
    }
   }
  },
  {
   "cell_type": "markdown",
   "source": [
    "# REMEMBER THAT QISKIT IS BACKWARDS!"
   ],
   "metadata": {
    "collapsed": false
   }
  },
  {
   "cell_type": "code",
   "execution_count": 301,
   "outputs": [
    {
     "data": {
      "text/plain": "<Figure size 203.885x284.278 with 1 Axes>",
      "image/png": "[encoded data removed]"
     },
     "execution_count": 301,
     "metadata": {},
     "output_type": "execute_result"
    }
   ],
   "source": [
    "# Creating Quantum Circuit (Qubits initialized to |0> by default)\n",
    "circ = QuantumCircuit(3)\n",
    "circ.x(qubit=2)\n",
    "circ.draw('mpl')"
   ],
   "metadata": {
    "collapsed": false,
    "ExecuteTime": {
     "start_time": "2023-04-01T23:04:50.933904Z",
     "end_time": "2023-04-01T23:04:50.977377Z"
    }
   }
  },
  {
   "cell_type": "code",
   "execution_count": 302,
   "outputs": [
    {
     "name": "stdout",
     "output_type": "stream",
     "text": [
      "[0 0 0 0 1 0 0 0]\n"
     ]
    }
   ],
   "source": [
    "# Run the quantum circuit on a statevector simulator backend\n",
    "backend = Aer.get_backend('statevector_simulator')\n",
    "job = backend.run(circ)\n",
    "result = job.result()\n",
    "statevector_result = np.real_if_close(np.array(result.data()['statevector']))\n",
    "print(statevector_result.astype(int))"
   ],
   "metadata": {
    "collapsed": false,
    "ExecuteTime": {
     "start_time": "2023-04-01T23:04:50.974494Z",
     "end_time": "2023-04-01T23:04:50.983674Z"
    }
   }
  },
  {
   "cell_type": "code",
   "execution_count": 303,
   "outputs": [
    {
     "name": "stdout",
     "output_type": "stream",
     "text": [
      "this is the 'normal' way: \n",
      "\n",
      "[1 0 0 0 0 0 0 0]\n",
      "[0 0 0 0 1 0 0 0]\n"
     ]
    }
   ],
   "source": [
    "print(\"this is the 'normal' way: \\n\")\n",
    "print(qubit_vector('000').flatten())\n",
    "print(qubit_vector('100').flatten())"
   ],
   "metadata": {
    "collapsed": false,
    "ExecuteTime": {
     "start_time": "2023-04-01T23:04:50.979544Z",
     "end_time": "2023-04-01T23:04:50.983840Z"
    }
   }
  },
  {
   "cell_type": "markdown",
   "source": [
    "# Trying to encode Fig. 9 of Berry article\n",
    "(the qubit 'a' on the figure represents a register of possibly multiple qubits - here it is 2: q_1, q_2)"
   ],
   "metadata": {
    "collapsed": false
   }
  },
  {
   "cell_type": "code",
   "execution_count": 304,
   "outputs": [],
   "source": [
    "# See: https://qiskit.org/documentation/tutorials/circuits_advanced/02_operators_overview.html for instructions on user-defined operators\n",
    "\n",
    "def get_Ua(A_mat: np.ndarray, q_2: int = 0) -> qiskit.quantum_info.operators.operator.Operator:\n",
    "    \"\"\"\n",
    "    Constructs the unitary operator Ua that encodes a symmetric real 2x2 matrix 'A' as a quantum gate.\n",
    "\n",
    "    Parameters\n",
    "    ----------\n",
    "    A_mat : np.ndarray\n",
    "        The symmetric real 2x2 matrix to be encoded as a quantum gate.\n",
    "    q_2 : int, optional\n",
    "        The value of qubit 2, which should be either 0 or 1. Defaults to 0.\n",
    "\n",
    "    Returns\n",
    "    -------\n",
    "    qiskit.quantum_info.operators.operator.Operator\n",
    "        The operator Ua as a `qiskit.quantum_info.Operator` object.\n",
    "\n",
    "    Raises\n",
    "    ------\n",
    "    ValueError\n",
    "        If `q_2` is not equal to 0 or 1.\n",
    "        If `A` is not a 2x2 symmetric real matrix.\n",
    "    \"\"\"\n",
    "\n",
    "\n",
    "    if q_2 != 0 and q_2 != 1:\n",
    "        raise ValueError(\"q_2 should have the value of either '0' or '1'. \")\n",
    "    if A_mat.shape[0] != A_mat.shape[1] or A_mat.shape[0] != 2:\n",
    "        raise ValueError(\"The given matrix 'A' should be 2x2.\")\n",
    "    if not check_symmetric(a=A_mat):\n",
    "        raise ValueError(\"The given matrix 'A' should be symmetric.\")\n",
    "    if not np.all(np.isreal(A_mat)):\n",
    "        raise ValueError(\"The given matrix 'A' should only contain real numbers.\")\n",
    "\n",
    "    # Normalizing w. respect to spectral norm\n",
    "    _spectral_norm = np.sqrt(np.max(np.linalg.eigvals(A_mat.T@A_mat-np.eye(2))))\n",
    "    _A_mat = 1/2*A/spectral_norm\n",
    "    # Updating alpha_1, alpha_2 definition\n",
    "    _alpha_1, _alpha_2 = 2*_A_mat[0,0], 2*_A_mat[0,1]\n",
    "    # Defining rotation angles\n",
    "    _theta_1 = np.arccos(_alpha_1)\n",
    "    _theta_2 = np.arccos(_alpha_2) - _theta_1\n",
    "\n",
    "    _NR_QUBITS = 3\n",
    "    _circ = QuantumCircuit(_NR_QUBITS)\n",
    "    if q_2 == 0:\n",
    "        _circ.x(qubit=2)\n",
    "    _circ.h(qubit=1)\n",
    "    _circ.cx(control_qubit=1,target_qubit=2)\n",
    "    _circ.cu(theta=2*_theta_2,phi=0.0,gamma=0.0,lam=0.0,control_qubit=1,target_qubit=0) # N.B. Remember to rotate by the double amount\n",
    "    _circ.u(theta=2*_theta_1, phi=0.0,lam=0.0,qubit=0) # N.B. Remember to rotate by the double amount\n",
    "    _circ.h(qubit=1)\n",
    "    _UA = Operator(_circ)\n",
    "    _UA.name = f\"$U_A$\"\n",
    "    return _UA\n",
    "\n",
    "def get_Ub(b_vec: np.ndarray) -> qiskit.quantum_info.operators.operator.Operator:\n",
    "    \"\"\"\n",
    "    Constructs the unitary operator Ub that encodes the 'b' vector as a quantum gate.\n",
    "\n",
    "    Parameters\n",
    "    ----------\n",
    "    b_vec : numpy.ndarray\n",
    "        A numpy array containing the 2 entries of the 'b' vector.\n",
    "\n",
    "    Returns\n",
    "    -------\n",
    "    qiskit.quantum_info.operators.operator.Operator\n",
    "        The operator Ub as a `qiskit.quantum_info.Operator` object.\n",
    "\n",
    "    Raises\n",
    "    ------\n",
    "    ValueError\n",
    "        If the length of the input vector 'b' is not 2.\n",
    "        If the input vector 'b' does not contain only real values.\n",
    "\n",
    "    \"\"\"\n",
    "    if len(b_vec) != 2:\n",
    "        raise ValueError(\"The vector 'b' should only contain 2 entries.\")\n",
    "    if not np.all(np.isreal(b_vec)):\n",
    "        raise ValueError(\"The vector 'b' should only contain real values.\")\n",
    "    # Normalizing 'b' vector\n",
    "    b_vec *= 1.0/np.sqrt(b_vec[0]**2+b_vec[1]**2)\n",
    "    # Calculating rotation-angles\n",
    "    _theta = 2*np.arccos(b_vec[0])\n",
    "    _phi = 0 # TODO: Choose phi depending on sign of second entry in b vector.\n",
    "    _lmbda = 0\n",
    "    # Creating circuit and transforming to operator\n",
    "    _circ = QuantumCircuit(1)\n",
    "    _circ.u(theta=_theta, phi=_phi,lam=_lmbda,qubit=0)\n",
    "    return Operator(_circ)\n",
    "\n",
    "\n",
    "def dagger(operator: qiskit.quantum_info.operators.operator.Operator) -> qiskit.quantum_info.operators.operator.Operator:\n",
    "    \"\"\"\n",
    "    Constructs the Hermitian conjugate of a given operator, i.e., its transpose and complex conjugate.\n",
    "\n",
    "    Parameters\n",
    "    ----------\n",
    "    operator : qiskit.quantum_info.operators.operator.Operator\n",
    "        The operator to compute the Hermitian conjugate of.\n",
    "\n",
    "    Returns\n",
    "    -------\n",
    "    qiskit.quantum_info.operators.operator.Operator\n",
    "        The Hermitian conjugate of the input operator as a `qiskit.quantum_info.Operator` object.\n",
    "    \"\"\"\n",
    "    return Operator(operator.data.conjugate().T)\n",
    "\n",
    "\n",
    "def schedule_function(s:float, kappa: float = 0.9, p: float = 3/2) -> float:\n",
    "    # TODO: Check what kappa should be, as 'kappa/(1-kappa)' is undf. for kappa=1.\n",
    "    \"\"\"\n",
    "    Returns the value of the schedule function at a given point (kappa, p, s) as described\n",
    "    in the article 'Optimal Scaling Quantum Linear-Systems Solver via Discrete' Adiabatic Theorem.\n",
    "\n",
    "    Parameters\n",
    "    ----------\n",
    "    kappa : float\n",
    "        The condition number of the matrix.\n",
    "\n",
    "    p : float\n",
    "        A number between 1 and 2.\n",
    "\n",
    "    s : float\n",
    "        A number between 0 and 1 representing the current point in the annealing schedule.\n",
    "\n",
    "    Returns\n",
    "    -------\n",
    "    float\n",
    "        The value of the schedule function evaluated at the given (kappa, p, s).\n",
    "    \"\"\"\n",
    "    if kappa <= 0 or kappa > 1:\n",
    "        raise ValueError(\"kappa must be a number between 0 and 1.\")\n",
    "    if not (1 < p < 2):\n",
    "        raise ValueError(\"'p' must be a number between 1 and 2.\")\n",
    "    if not (0 <= s <= 1):\n",
    "        raise ValueError(\"'s' must be a number between 0 and 1.\")\n",
    "    return kappa/(kappa-1.0)*(1.0-(1.0+s*(kappa**(p-1.0)-1.0))**(1.0/(1.0-p)))\n",
    "\n",
    "\n",
    "def get_Rs(s: float) -> qiskit.quantum_info.operators.operator.Operator:\n",
    "    \"\"\"\n",
    "    Constructs the reflection operator R(s).\n",
    "\n",
    "    Parameters\n",
    "    ----------\n",
    "    s : float\n",
    "        A number between 0 and 1 representing the current point in the annealing schedule.\n",
    "\n",
    "    Returns\n",
    "    -------\n",
    "    qiskit.quantum_info.operators.operator.Operator\n",
    "        The operator Rs as a `qiskit.quantum_info.Operator` object.\n",
    "\n",
    "    Raises\n",
    "    ------\n",
    "    ValueError\n",
    "        If 's' is not a number between 0 and 1.\n",
    "    \"\"\"\n",
    "    if not (0 <= s <= 1):\n",
    "        raise ValueError(\"'s' must be a number between 0 and 1.\")\n",
    "    _front_factor = 1.0 / np.sqrt((1.0 - schedule_function(s))**2 + schedule_function(s)**2)\n",
    "    _matrix = np.array([[1.0 - schedule_function(s) , schedule_function(s)          ],\n",
    "                        [schedule_function(s)       , -(1.0 - schedule_function(s)) ]])\n",
    "    _matrix *= _front_factor\n",
    "    return Operator(_matrix)\n",
    "\n",
    "\n",
    "def get_projector(signature: str) -> qiskit.quantum_info.operators.operator.Operator:\n",
    "    \"\"\"\n",
    "    This function returns a projection matrix based on the provided signature.\n",
    "\n",
    "    Parameters:\n",
    "    -----------\n",
    "    signature : str\n",
    "        The signature is defined as a string of two binary digits representing the projections of |0⟩ and |1⟩\n",
    "        states respectively.\n",
    "\n",
    "    Returns:\n",
    "    --------\n",
    "    np.ndarray\n",
    "        A Qiskit Operator representing a projection matrix.\n",
    "\n",
    "    Raises:\n",
    "    -------\n",
    "    ValueError\n",
    "        If the provided signature is not one of the defined signatures.\n",
    "\n",
    "    Examples:\n",
    "    ---------\n",
    "    >>> get_projektor('00')\n",
    "    array([[1, 0],\n",
    "           [0, 0]])\n",
    "\n",
    "    >>> get_projektor('10')\n",
    "    array([[0, 1],\n",
    "           [0, 0]])\n",
    "    \"\"\"\n",
    "    _zero, _one = np.array([[1],[0]]), np.array([[0],[1]])\n",
    "    _signatures = {'00':_zero@_zero.T, '10':_one@_zero.T,\n",
    "                   '01':_zero@_one.T , '11':_one@_one.T }\n",
    "    if signature not in _signatures:\n",
    "        raise ValueError(f\"Given 'signature': {signature}, is undefined and should be one of: {_signatures}.\")\n",
    "    return Operator(_signatures[signature])\n",
    "\n",
    "\n",
    "def tensor(operator_1: qiskit.quantum_info.operators.operator.Operator,\n",
    "           operator_2: qiskit.quantum_info.operators.operator.Operator) -> qiskit.quantum_info.operators.operator.Operator:\n",
    "    \"\"\"\n",
    "    This function takes two quantum operators and returns their tensor product.\n",
    "\n",
    "    Parameters:\n",
    "    -----------\n",
    "    operator_1 : qiskit.quantum_info.operators.operator.Operator\n",
    "        A quantum operator.\n",
    "\n",
    "    operator_2 : qiskit.quantum_info.operators.operator.Operator\n",
    "        A quantum operator.\n",
    "\n",
    "    Returns:\n",
    "    --------\n",
    "    Operator\n",
    "        The tensor product of the two provided operators.\n",
    "\n",
    "    Raises:\n",
    "    -------\n",
    "    None\n",
    "\n",
    "    Examples:\n",
    "    ---------\n",
    "    >>> from qiskit.quantum_info import Operator\n",
    "    >>> import numpy as np\n",
    "    >>> a = Operator(np.array([[1, 0], [0, 1]]))\n",
    "    >>> b = Operator(np.array([[0, 1], [1, 0]]))\n",
    "    >>> tensor(a, b)\n",
    "    Operator([[0.+0.j, 0.+0.j, 1.+0.j, 0.+0.j],\n",
    "              [0.+0.j, 0.+0.j, 0.+0.j, 1.+0.j],\n",
    "              [1.+0.j, 0.+0.j, 0.+0.j, 0.+0.j],\n",
    "              [0.+0.j, 1.+0.j, 0.+0.j, 0.+0.j]], input_dims=((2, 2), (2, 2)), output_dims=((2, 2, 2, 2),))\n",
    "    \"\"\"\n",
    "    return Operator(np.kron(operator_1.data, operator_2.data))\n"
   ],
   "metadata": {
    "collapsed": false,
    "ExecuteTime": {
     "start_time": "2023-04-01T23:04:50.981840Z",
     "end_time": "2023-04-01T23:04:51.027532Z"
    }
   }
  },
  {
   "cell_type": "code",
   "execution_count": 305,
   "outputs": [
    {
     "data": {
      "text/plain": "array([[1.5, 2. ],\n       [2. , 1.5]])"
     },
     "execution_count": 305,
     "metadata": {},
     "output_type": "execute_result"
    }
   ],
   "source": [
    "# Defining arbitrary symmetric A\n",
    "alpha_1, alpha_2 = 3, 4\n",
    "A = 1/2 * np.array([[alpha_1, alpha_2],[alpha_2, alpha_1]],dtype=float)\n",
    "A"
   ],
   "metadata": {
    "collapsed": false,
    "ExecuteTime": {
     "start_time": "2023-04-01T23:04:50.995410Z",
     "end_time": "2023-04-01T23:04:51.027797Z"
    }
   }
  },
  {
   "cell_type": "code",
   "execution_count": 306,
   "outputs": [
    {
     "data": {
      "text/plain": "array([1., 2.])"
     },
     "execution_count": 306,
     "metadata": {},
     "output_type": "execute_result"
    }
   ],
   "source": [
    "# Defining arbitrary real b\n",
    "b_1, b_2 = 1,2\n",
    "b = np.array([b_1, b_2],dtype=float)\n",
    "b.T"
   ],
   "metadata": {
    "collapsed": false,
    "ExecuteTime": {
     "start_time": "2023-04-01T23:04:50.998796Z",
     "end_time": "2023-04-01T23:04:51.048761Z"
    }
   }
  },
  {
   "cell_type": "code",
   "execution_count": 307,
   "outputs": [],
   "source": [
    "# Defining operators needed in fig. 9 circuit\n",
    "U_A = get_Ua(A_mat=A,q_2=0)\n",
    "U_A_dagger = dagger(operator=U_A)\n",
    "U_b = get_Ub(b_vec=b)\n",
    "U_b_dagger = dagger(operator=U_b)\n",
    "R_S = get_Rs(s=0)\n",
    "one_one = get_projector(signature='11')\n",
    "zero_zero = get_projector(signature='00')"
   ],
   "metadata": {
    "collapsed": false,
    "ExecuteTime": {
     "start_time": "2023-04-01T23:04:51.003414Z",
     "end_time": "2023-04-01T23:04:51.048982Z"
    }
   }
  },
  {
   "cell_type": "code",
   "execution_count": 344,
   "outputs": [
    {
     "data": {
      "text/plain": "<Figure size 2210.55x1622.06 with 1 Axes>",
      "image/png": "[encoded data removed]"
     },
     "execution_count": 344,
     "metadata": {},
     "output_type": "execute_result"
    }
   ],
   "source": [
    "# Creating circuit\n",
    "circ = QuantumCircuit(9)\n",
    "circ.h(qubit=2)\n",
    "circ.barrier()\n",
    "\n",
    "circ.append(UnitaryGate(data=U_b.data,label=r'$U_b$'),qargs=[8])\n",
    "circ.x(qubit=8) # For negative control (empty dot in circuit notation)\n",
    "\n",
    "# Equivalent to multi-qubit controlled z gate.\n",
    "circ.h(qubit=8)\n",
    "circ.mct(control_qubits=[0,2,3],target_qubit=8) # Note that which is control and which is target doesn't matter for controlled-Z (symmetric matrix).\n",
    "circ.h(qubit=8)\n",
    "\n",
    "circ.x(qubit=8) # For negative control (empty dot in circuit notation)\n",
    "circ.append(UnitaryGate(data=U_b_dagger.data,label=r'$U_b^{\\dagger}$'),qargs=[8])\n",
    "circ.barrier()\n",
    "\n",
    "circ.x(qubit=3) # For negative control (empty dot in circuit notation)\n",
    "R_s_qubit, control_qubit =1, 3\n",
    "circ.append(UnitaryGate(data=R_S.data,label=f'$R_S$').control(num_ctrl_qubits=1),qargs=[control_qubit,R_s_qubit])\n",
    "circ.x(qubit=3) # For negative control (empty dot in circuit notation)\n",
    "circ.ch(control_qubit=3,target_qubit=1)\n",
    "circ.barrier()\n",
    "\n",
    "control_qubit_1, control_qubit_2 = 0,1\n",
    "circ.append(UnitaryGate(data=U_A.data,label=r'$U_A$').control(num_ctrl_qubits=2),qargs=[control_qubit_1,control_qubit_2,6,7,8])\n",
    "circ.cx(control_qubit=1,target_qubit=0)\n",
    "circ.x(qubit=1) # For negative control (empty dot in circuit notation)\n",
    "circ.h(qubit=1)\n",
    "circ.cx(control_qubit=0,target_qubit=1)\n",
    "circ.h(qubit=1)\n",
    "circ.x(qubit=1)\n",
    "circ.append(UnitaryGate(data=U_A_dagger.data,label=r'$U_A^{\\dagger}$').control(num_ctrl_qubits=2),qargs=[control_qubit_1,control_qubit_2,6,7,8])\n",
    "circ.barrier()\n",
    "\n",
    "circ.x(qubit=3) # TODO: investigate whether the \\sigma_x in the figure is to be understood as a bit-flip [[0,1],[1,0]]\n",
    "\n",
    "circ.ch(control_qubit=3,target_qubit=1)\n",
    "circ.x(qubit=3)# For negative control (empty dot in circuit notation)\n",
    "R_s_qubit, control_qubit =1, 3\n",
    "circ.append(UnitaryGate(data=R_S.data,label=f'$R_S$').control(num_ctrl_qubits=1),qargs=[control_qubit,R_s_qubit])\n",
    "circ.x(qubit=3) # For negative control (empty dot in circuit notation)\n",
    "circ.barrier()\n",
    "\n",
    "circ.append(UnitaryGate(data=U_b.data,label=r'$U_b$'),qargs=[8])\n",
    "circ.x(qubit=8) # For negative control (empty dot in circuit notation)\n",
    "# Equivalent to multi-qubit controlled z gate.\n",
    "circ.h(qubit=8)\n",
    "circ.mct(control_qubits=[0,2,3],target_qubit=8) # Note that which is control and which is target doesn't matter for controlled-Z (symmetric matrix).\n",
    "circ.h(qubit=8)\n",
    "circ.x(qubit=8) # For negative control (empty dot in circuit notation)\n",
    "circ.append(UnitaryGate(data=U_b_dagger.data,label=r'$U_b^{\\dagger}$'),qargs=[8])\n",
    "circ.barrier()\n",
    "\n",
    "circ.h(qubit=2)\n",
    "\n",
    "circ.draw('mpl')"
   ],
   "metadata": {
    "collapsed": false,
    "ExecuteTime": {
     "start_time": "2023-04-01T23:27:29.425235Z",
     "end_time": "2023-04-01T23:27:30.458234Z"
    }
   }
  },
  {
   "cell_type": "code",
   "execution_count": null,
   "outputs": [],
   "source": [],
   "metadata": {
    "collapsed": false
   }
  }
 ],
 "metadata": {
  "kernelspec": {
   "display_name": "Python 3 (ipykernel)",
   "language": "python",
   "name": "python3"
  },
  "language_info": {
   "codemirror_mode": {
    "name": "ipython",
    "version": 3
   },
   "file_extension": ".py",
   "mimetype": "text/x-python",
   "name": "python",
   "nbconvert_exporter": "python",
   "pygments_lexer": "ipython3",
   "version": "3.10.6"
  }
 },
 "nbformat": 4,
 "nbformat_minor": 1
}
